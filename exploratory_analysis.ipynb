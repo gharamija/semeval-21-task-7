{
 "cells": [
  {
   "cell_type": "markdown",
   "id": "c748ad37",
   "metadata": {},
   "source": [
    "# Eksploratorn analiza"
   ]
  },
  {
   "cell_type": "markdown",
   "id": "ebfb0570",
   "metadata": {},
   "source": [
    "Problem kod dataseta u ovom zadatku je što imamo pristup samo train set-u, nemamo validacijskom i test setu. Broj redova, primjera u train setu je 8000 te sam podijelio podatke na sljedeći način: 6400 train set, 800 dev set i 800 test set."
   ]
  },
  {
   "cell_type": "code",
   "execution_count": 1,
   "id": "72d15a18",
   "metadata": {},
   "outputs": [],
   "source": [
    "import pandas as pd"
   ]
  },
  {
   "cell_type": "markdown",
   "id": "e7c10d2e",
   "metadata": {},
   "source": [
    "### Puni dataset"
   ]
  },
  {
   "cell_type": "code",
   "execution_count": 2,
   "id": "4dc4ff37",
   "metadata": {},
   "outputs": [
    {
     "data": {
      "text/html": [
       "<div>\n",
       "<style scoped>\n",
       "    .dataframe tbody tr th:only-of-type {\n",
       "        vertical-align: middle;\n",
       "    }\n",
       "\n",
       "    .dataframe tbody tr th {\n",
       "        vertical-align: top;\n",
       "    }\n",
       "\n",
       "    .dataframe thead th {\n",
       "        text-align: right;\n",
       "    }\n",
       "</style>\n",
       "<table border=\"1\" class=\"dataframe\">\n",
       "  <thead>\n",
       "    <tr style=\"text-align: right;\">\n",
       "      <th></th>\n",
       "      <th>id</th>\n",
       "      <th>text</th>\n",
       "      <th>is_humor</th>\n",
       "      <th>humor_rating</th>\n",
       "      <th>humor_controversy</th>\n",
       "      <th>offense_rating</th>\n",
       "    </tr>\n",
       "  </thead>\n",
       "  <tbody>\n",
       "    <tr>\n",
       "      <th>0</th>\n",
       "      <td>1</td>\n",
       "      <td>TENNESSEE: We're the best state. Nobody even c...</td>\n",
       "      <td>1</td>\n",
       "      <td>2.42</td>\n",
       "      <td>1.0</td>\n",
       "      <td>0.20</td>\n",
       "    </tr>\n",
       "    <tr>\n",
       "      <th>1</th>\n",
       "      <td>2</td>\n",
       "      <td>A man inserted an advertisement in the classif...</td>\n",
       "      <td>1</td>\n",
       "      <td>2.50</td>\n",
       "      <td>1.0</td>\n",
       "      <td>1.10</td>\n",
       "    </tr>\n",
       "    <tr>\n",
       "      <th>2</th>\n",
       "      <td>3</td>\n",
       "      <td>How many men does it take to open a can of bee...</td>\n",
       "      <td>1</td>\n",
       "      <td>1.95</td>\n",
       "      <td>0.0</td>\n",
       "      <td>2.40</td>\n",
       "    </tr>\n",
       "    <tr>\n",
       "      <th>3</th>\n",
       "      <td>4</td>\n",
       "      <td>Told my mom I hit 1200 Twitter followers. She ...</td>\n",
       "      <td>1</td>\n",
       "      <td>2.11</td>\n",
       "      <td>1.0</td>\n",
       "      <td>0.00</td>\n",
       "    </tr>\n",
       "    <tr>\n",
       "      <th>4</th>\n",
       "      <td>5</td>\n",
       "      <td>Roses are dead. Love is fake. Weddings are bas...</td>\n",
       "      <td>1</td>\n",
       "      <td>2.78</td>\n",
       "      <td>0.0</td>\n",
       "      <td>0.10</td>\n",
       "    </tr>\n",
       "    <tr>\n",
       "      <th>...</th>\n",
       "      <td>...</td>\n",
       "      <td>...</td>\n",
       "      <td>...</td>\n",
       "      <td>...</td>\n",
       "      <td>...</td>\n",
       "      <td>...</td>\n",
       "    </tr>\n",
       "    <tr>\n",
       "      <th>7995</th>\n",
       "      <td>7996</td>\n",
       "      <td>Lack of awareness of the pervasiveness of raci...</td>\n",
       "      <td>0</td>\n",
       "      <td>NaN</td>\n",
       "      <td>NaN</td>\n",
       "      <td>0.25</td>\n",
       "    </tr>\n",
       "    <tr>\n",
       "      <th>7996</th>\n",
       "      <td>7997</td>\n",
       "      <td>Why are aspirins white? Because they work sorry</td>\n",
       "      <td>1</td>\n",
       "      <td>1.33</td>\n",
       "      <td>0.0</td>\n",
       "      <td>3.85</td>\n",
       "    </tr>\n",
       "    <tr>\n",
       "      <th>7997</th>\n",
       "      <td>7998</td>\n",
       "      <td>Today, we Americans celebrate our independence...</td>\n",
       "      <td>1</td>\n",
       "      <td>2.55</td>\n",
       "      <td>0.0</td>\n",
       "      <td>0.00</td>\n",
       "    </tr>\n",
       "    <tr>\n",
       "      <th>7998</th>\n",
       "      <td>7999</td>\n",
       "      <td>How to keep the flies off the bride at an Ital...</td>\n",
       "      <td>1</td>\n",
       "      <td>1.00</td>\n",
       "      <td>0.0</td>\n",
       "      <td>3.00</td>\n",
       "    </tr>\n",
       "    <tr>\n",
       "      <th>7999</th>\n",
       "      <td>8000</td>\n",
       "      <td>\"Each ounce of sunflower seeds gives you 37% o...</td>\n",
       "      <td>0</td>\n",
       "      <td>NaN</td>\n",
       "      <td>NaN</td>\n",
       "      <td>0.00</td>\n",
       "    </tr>\n",
       "  </tbody>\n",
       "</table>\n",
       "<p>8000 rows × 6 columns</p>\n",
       "</div>"
      ],
      "text/plain": [
       "        id                                               text  is_humor  \\\n",
       "0        1  TENNESSEE: We're the best state. Nobody even c...         1   \n",
       "1        2  A man inserted an advertisement in the classif...         1   \n",
       "2        3  How many men does it take to open a can of bee...         1   \n",
       "3        4  Told my mom I hit 1200 Twitter followers. She ...         1   \n",
       "4        5  Roses are dead. Love is fake. Weddings are bas...         1   \n",
       "...    ...                                                ...       ...   \n",
       "7995  7996  Lack of awareness of the pervasiveness of raci...         0   \n",
       "7996  7997    Why are aspirins white? Because they work sorry         1   \n",
       "7997  7998  Today, we Americans celebrate our independence...         1   \n",
       "7998  7999  How to keep the flies off the bride at an Ital...         1   \n",
       "7999  8000  \"Each ounce of sunflower seeds gives you 37% o...         0   \n",
       "\n",
       "      humor_rating  humor_controversy  offense_rating  \n",
       "0             2.42                1.0            0.20  \n",
       "1             2.50                1.0            1.10  \n",
       "2             1.95                0.0            2.40  \n",
       "3             2.11                1.0            0.00  \n",
       "4             2.78                0.0            0.10  \n",
       "...            ...                ...             ...  \n",
       "7995           NaN                NaN            0.25  \n",
       "7996          1.33                0.0            3.85  \n",
       "7997          2.55                0.0            0.00  \n",
       "7998          1.00                0.0            3.00  \n",
       "7999           NaN                NaN            0.00  \n",
       "\n",
       "[8000 rows x 6 columns]"
      ]
     },
     "execution_count": 2,
     "metadata": {},
     "output_type": "execute_result"
    }
   ],
   "source": [
    "data = pd.read_csv('data/dataset.csv')\n",
    "data"
   ]
  },
  {
   "cell_type": "markdown",
   "id": "d7d3f3a7",
   "metadata": {},
   "source": [
    "Značenje stupaca:\n",
    "\n",
    "    - id - Ovo je identifikacijski broj za svaku recenicu. Može se koristiti za jedinstveno identificiranje svake stavke u skupu podataka.\n",
    "    - text - Ovaj stupac sadrži rečenice koje je potrebno analizirati.\n",
    "    - is_humor - inarna oznaka (0 ili 1) koja označava ima li rečenica humor ili ne. Ako je vrijednost 1, rečenica je označena kao humoristična, ako je 0, rečenica nije .\n",
    "    - humor_rating - Numerička ocjena (1-5) koja predstavlja subjektivnu percepciju anotatora o tome koliko je rečenica smiješna. Anotatori su ocijenili smiješnost rečenice na skali od 1 do 5.\n",
    "    - humor_controversy - Binarna oznaka (0 ili 1) koja označava ima li kontroverzu humora u rečenici. Ako je vrijednost 1, to znači da je ocjena humora za tu rečenicu kontroverzna.\n",
    "    - offense_rating - Numerička ocjena (1-5) koja predstavlja subjektivnu percepciju anotatora o tome koliko je rečenica uvredljiva. Anotatori su ocijenili razinu uvredljivosti rečenice na skali od 1 do 5. Ovdje se također razmatra da nedavanje ocjene jednako 0."
   ]
  },
  {
   "cell_type": "code",
   "execution_count": 3,
   "id": "4153fe1a",
   "metadata": {},
   "outputs": [
    {
     "name": "stdout",
     "output_type": "stream",
     "text": [
      "               id     is_humor  humor_rating  humor_controversy  \\\n",
      "count  8000.00000  8000.000000   4932.000000        4932.000000   \n",
      "mean   4000.50000     0.616500      2.260525           0.499797   \n",
      "std    2309.54541     0.486269      0.566974           0.500051   \n",
      "min       1.00000     0.000000      0.100000           0.000000   \n",
      "25%    2000.75000     0.000000      1.890000           0.000000   \n",
      "50%    4000.50000     1.000000      2.280000           0.000000   \n",
      "75%    6000.25000     1.000000      2.650000           1.000000   \n",
      "max    8000.00000     1.000000      4.000000           1.000000   \n",
      "\n",
      "       offense_rating  \n",
      "count     8000.000000  \n",
      "mean         0.585325  \n",
      "std          0.979955  \n",
      "min          0.000000  \n",
      "25%          0.000000  \n",
      "50%          0.100000  \n",
      "75%          0.700000  \n",
      "max          4.850000  \n",
      "\n",
      "\n",
      "Broj humoristicnih tekstova: 4932\n",
      "Broj ne humoristicnih: 3068\n",
      "Broj NaN zapisa: 0\n",
      "Broj NaN zapisa: 3068\n",
      "Broj NaN zapisa: 3068\n",
      "Broj NaN zapisa: 0\n"
     ]
    }
   ],
   "source": [
    "print(data.describe())\n",
    "print()\n",
    "print()\n",
    "print(f\"Broj humoristicnih tekstova: {len(data[data['is_humor'] == 1])}\")\n",
    "print(f\"Broj ne humoristicnih: {len(data[data['is_humor'] == 0])}\")\n",
    "print(f\"Broj NaN zapisa: {len(data[data['is_humor'].isna()])}\")\n",
    "print(f\"Broj NaN zapisa: {len(data[data['humor_rating'].isna()])}\")\n",
    "print(f\"Broj NaN zapisa: {len(data[data['humor_controversy'].isna()])}\")\n",
    "print(f\"Broj NaN zapisa: {len(data[data['offense_rating'].isna()])}\")"
   ]
  },
  {
   "cell_type": "code",
   "execution_count": 4,
   "id": "c3861331",
   "metadata": {},
   "outputs": [
    {
     "name": "stdout",
     "output_type": "stream",
     "text": [
      "Broj redaka bez NaN vrijednosti u 'text' stupcu: 8000\n"
     ]
    }
   ],
   "source": [
    "# Provjerava ima li unos u svakom redu za 'text' stupac\n",
    "text_column_not_null = data['text'].dropna()\n",
    "\n",
    "# Ispisuje duljinu rezultirajućeg DataFrame-a\n",
    "print(f\"Broj redaka bez NaN vrijednosti u 'text' stupcu: {len(text_column_not_null)}\")"
   ]
  },
  {
   "cell_type": "code",
   "execution_count": 5,
   "id": "8d34ab21",
   "metadata": {},
   "outputs": [
    {
     "name": "stdout",
     "output_type": "stream",
     "text": [
      "Udio kontroverznosti humora: 30.81%\n"
     ]
    }
   ],
   "source": [
    "# Udio kontroverznosti humora\n",
    "controversial_count = data['humor_controversy'].sum()\n",
    "total_samples = len(data)\n",
    "\n",
    "print(f\"Udio kontroverznosti humora: {controversial_count / total_samples * 100:.2f}%\")"
   ]
  },
  {
   "cell_type": "code",
   "execution_count": 6,
   "id": "39757bd9",
   "metadata": {
    "scrolled": true
   },
   "outputs": [
    {
     "name": "stdout",
     "output_type": "stream",
     "text": [
      "                                                text  sentence_length\n",
      "0  TENNESSEE: We're the best state. Nobody even c...               17\n",
      "1  A man inserted an advertisement in the classif...               32\n",
      "2  How many men does it take to open a can of bee...               26\n",
      "3  Told my mom I hit 1200 Twitter followers. She ...               26\n",
      "4  Roses are dead. Love is fake. Weddings are bas...               12\n",
      "sentence_length    20.889375\n",
      "dtype: float64\n",
      "is_humor\n",
      "0    21.932855\n",
      "1    20.240268\n",
      "Name: sentence_length, dtype: float64\n"
     ]
    }
   ],
   "source": [
    "# Analiza duljine rečenica\n",
    "data['sentence_length'] = data['text'].apply(lambda x: len(x.split()))\n",
    "print(data[['text', 'sentence_length']].head())\n",
    "print(data[['sentence_length']].mean())\n",
    "print(data.groupby('is_humor')['sentence_length'].mean())"
   ]
  },
  {
   "cell_type": "markdown",
   "id": "db72dbc6",
   "metadata": {},
   "source": [
    "Training set ne sadrži neispravne primjere. Gdje su vrijednosti is_humor == 0, tj. za tekstove koji nisu humoristični nema vrijednosti humor_rating\ti humor_controversy jer to za njih niti nije moguće izračunati."
   ]
  },
  {
   "cell_type": "markdown",
   "id": "6a40bbb0",
   "metadata": {},
   "source": [
    "### Podjela dataset-a"
   ]
  },
  {
   "cell_type": "code",
   "execution_count": 7,
   "id": "06ec1279",
   "metadata": {
    "scrolled": true
   },
   "outputs": [
    {
     "name": "stdout",
     "output_type": "stream",
     "text": [
      "Veličina train seta: 6400\n",
      "Veličina dev seta: 800\n",
      "Veličina test seta: 800\n"
     ]
    }
   ],
   "source": [
    "from sklearn.model_selection import train_test_split\n",
    "\n",
    "# Podijeli train set na train i privremeni set (ostatak)\n",
    "train_data, temp_data = train_test_split(data, test_size=0.2, random_state=42)\n",
    "\n",
    "# Podijeli privremeni set na dev i test set\n",
    "dev_data, test_data = train_test_split(temp_data, test_size=0.5, random_state=42)\n",
    "\n",
    "# Ispisuje veličine dobivenih setova\n",
    "print(f\"Veličina train seta: {len(train_data)}\")\n",
    "print(f\"Veličina dev seta: {len(dev_data)}\")\n",
    "print(f\"Veličina test seta: {len(test_data)}\")"
   ]
  },
  {
   "cell_type": "code",
   "execution_count": 8,
   "id": "578e77e1",
   "metadata": {},
   "outputs": [],
   "source": [
    "# Spremi train set u CSV file\n",
    "train_data.to_csv('data/train.csv', index=False)\n",
    "\n",
    "# Spremi dev set u CSV file\n",
    "dev_data.to_csv('data/dev.csv', index=False)\n",
    "\n",
    "# Spremi test set u CSV file\n",
    "test_data.to_csv('data/test.csv', index=False)"
   ]
  },
  {
   "cell_type": "markdown",
   "id": "12f408b0",
   "metadata": {},
   "source": [
    "### Odnos humorističnih i nehumorističnih tekstova u train i dev setu"
   ]
  },
  {
   "cell_type": "code",
   "execution_count": 9,
   "id": "be9b16fe",
   "metadata": {},
   "outputs": [
    {
     "data": {
      "text/html": [
       "<div>\n",
       "<style scoped>\n",
       "    .dataframe tbody tr th:only-of-type {\n",
       "        vertical-align: middle;\n",
       "    }\n",
       "\n",
       "    .dataframe tbody tr th {\n",
       "        vertical-align: top;\n",
       "    }\n",
       "\n",
       "    .dataframe thead th {\n",
       "        text-align: right;\n",
       "    }\n",
       "</style>\n",
       "<table border=\"1\" class=\"dataframe\">\n",
       "  <thead>\n",
       "    <tr style=\"text-align: right;\">\n",
       "      <th></th>\n",
       "      <th>id</th>\n",
       "      <th>text</th>\n",
       "      <th>is_humor</th>\n",
       "      <th>humor_rating</th>\n",
       "      <th>humor_controversy</th>\n",
       "      <th>offense_rating</th>\n",
       "      <th>sentence_length</th>\n",
       "    </tr>\n",
       "  </thead>\n",
       "  <tbody>\n",
       "    <tr>\n",
       "      <th>1467</th>\n",
       "      <td>1468</td>\n",
       "      <td>customer: i'd like to return this boomerang me...</td>\n",
       "      <td>1</td>\n",
       "      <td>2.30</td>\n",
       "      <td>1.0</td>\n",
       "      <td>0.00</td>\n",
       "      <td>14</td>\n",
       "    </tr>\n",
       "    <tr>\n",
       "      <th>5768</th>\n",
       "      <td>5769</td>\n",
       "      <td>Keep your ears ready for next week, when The A...</td>\n",
       "      <td>0</td>\n",
       "      <td>NaN</td>\n",
       "      <td>NaN</td>\n",
       "      <td>0.50</td>\n",
       "      <td>18</td>\n",
       "    </tr>\n",
       "    <tr>\n",
       "      <th>5714</th>\n",
       "      <td>5715</td>\n",
       "      <td>[2 am] *5 year old sneaks into my room* 5: (wh...</td>\n",
       "      <td>1</td>\n",
       "      <td>3.00</td>\n",
       "      <td>0.0</td>\n",
       "      <td>0.00</td>\n",
       "      <td>36</td>\n",
       "    </tr>\n",
       "    <tr>\n",
       "      <th>1578</th>\n",
       "      <td>1579</td>\n",
       "      <td>Sex and food activate the same parts of the br...</td>\n",
       "      <td>0</td>\n",
       "      <td>NaN</td>\n",
       "      <td>NaN</td>\n",
       "      <td>0.10</td>\n",
       "      <td>10</td>\n",
       "    </tr>\n",
       "    <tr>\n",
       "      <th>6958</th>\n",
       "      <td>6959</td>\n",
       "      <td>Gay or straight, No state should legally recog...</td>\n",
       "      <td>1</td>\n",
       "      <td>2.25</td>\n",
       "      <td>1.0</td>\n",
       "      <td>0.30</td>\n",
       "      <td>18</td>\n",
       "    </tr>\n",
       "    <tr>\n",
       "      <th>...</th>\n",
       "      <td>...</td>\n",
       "      <td>...</td>\n",
       "      <td>...</td>\n",
       "      <td>...</td>\n",
       "      <td>...</td>\n",
       "      <td>...</td>\n",
       "      <td>...</td>\n",
       "    </tr>\n",
       "    <tr>\n",
       "      <th>5226</th>\n",
       "      <td>5227</td>\n",
       "      <td>What is a pirates favorite letter? P. Because ...</td>\n",
       "      <td>1</td>\n",
       "      <td>3.00</td>\n",
       "      <td>1.0</td>\n",
       "      <td>0.15</td>\n",
       "      <td>13</td>\n",
       "    </tr>\n",
       "    <tr>\n",
       "      <th>5390</th>\n",
       "      <td>5391</td>\n",
       "      <td>My parents just said they want another child. ...</td>\n",
       "      <td>1</td>\n",
       "      <td>2.60</td>\n",
       "      <td>1.0</td>\n",
       "      <td>0.15</td>\n",
       "      <td>21</td>\n",
       "    </tr>\n",
       "    <tr>\n",
       "      <th>860</th>\n",
       "      <td>861</td>\n",
       "      <td>Don't depend too much on anyone in this world ...</td>\n",
       "      <td>0</td>\n",
       "      <td>NaN</td>\n",
       "      <td>NaN</td>\n",
       "      <td>0.00</td>\n",
       "      <td>21</td>\n",
       "    </tr>\n",
       "    <tr>\n",
       "      <th>7603</th>\n",
       "      <td>7604</td>\n",
       "      <td>When my toddler gets upset, he does this stomp...</td>\n",
       "      <td>1</td>\n",
       "      <td>2.55</td>\n",
       "      <td>0.0</td>\n",
       "      <td>0.10</td>\n",
       "      <td>33</td>\n",
       "    </tr>\n",
       "    <tr>\n",
       "      <th>7270</th>\n",
       "      <td>7271</td>\n",
       "      <td>An 89 is just a 69 with a fat chick.</td>\n",
       "      <td>1</td>\n",
       "      <td>2.05</td>\n",
       "      <td>0.0</td>\n",
       "      <td>2.25</td>\n",
       "      <td>10</td>\n",
       "    </tr>\n",
       "  </tbody>\n",
       "</table>\n",
       "<p>6400 rows × 7 columns</p>\n",
       "</div>"
      ],
      "text/plain": [
       "        id                                               text  is_humor  \\\n",
       "1467  1468  customer: i'd like to return this boomerang me...         1   \n",
       "5768  5769  Keep your ears ready for next week, when The A...         0   \n",
       "5714  5715  [2 am] *5 year old sneaks into my room* 5: (wh...         1   \n",
       "1578  1579  Sex and food activate the same parts of the br...         0   \n",
       "6958  6959  Gay or straight, No state should legally recog...         1   \n",
       "...    ...                                                ...       ...   \n",
       "5226  5227  What is a pirates favorite letter? P. Because ...         1   \n",
       "5390  5391  My parents just said they want another child. ...         1   \n",
       "860    861  Don't depend too much on anyone in this world ...         0   \n",
       "7603  7604  When my toddler gets upset, he does this stomp...         1   \n",
       "7270  7271               An 89 is just a 69 with a fat chick.         1   \n",
       "\n",
       "      humor_rating  humor_controversy  offense_rating  sentence_length  \n",
       "1467          2.30                1.0            0.00               14  \n",
       "5768           NaN                NaN            0.50               18  \n",
       "5714          3.00                0.0            0.00               36  \n",
       "1578           NaN                NaN            0.10               10  \n",
       "6958          2.25                1.0            0.30               18  \n",
       "...            ...                ...             ...              ...  \n",
       "5226          3.00                1.0            0.15               13  \n",
       "5390          2.60                1.0            0.15               21  \n",
       "860            NaN                NaN            0.00               21  \n",
       "7603          2.55                0.0            0.10               33  \n",
       "7270          2.05                0.0            2.25               10  \n",
       "\n",
       "[6400 rows x 7 columns]"
      ]
     },
     "execution_count": 9,
     "metadata": {},
     "output_type": "execute_result"
    }
   ],
   "source": [
    "train_data\n"
   ]
  },
  {
   "cell_type": "code",
   "execution_count": 10,
   "id": "ec291252",
   "metadata": {},
   "outputs": [
    {
     "name": "stdout",
     "output_type": "stream",
     "text": [
      "Postotak humorističnih tekstova u train setu: 61.69%\n",
      "Postotak nehumorističnih tekstova u train setu: 38.31%\n"
     ]
    }
   ],
   "source": [
    "# Broj humorističnih tekstova u train setu\n",
    "humor_percent = len(train_data[train_data['is_humor'] == 1]) / len(train_data) * 100\n",
    "\n",
    "# Broj nehumorističnih tekstova u train setu\n",
    "non_humor_percent = len(train_data[train_data['is_humor'] == 0]) / len(train_data) * 100\n",
    "\n",
    "# Ispis rezultata s dvije decimale\n",
    "print(f\"Postotak humorističnih tekstova u train setu: {humor_percent:.2f}%\")\n",
    "print(f\"Postotak nehumorističnih tekstova u train setu: {non_humor_percent:.2f}%\")\n"
   ]
  },
  {
   "cell_type": "code",
   "execution_count": 11,
   "id": "dcdfa08a",
   "metadata": {},
   "outputs": [
    {
     "data": {
      "text/html": [
       "<div>\n",
       "<style scoped>\n",
       "    .dataframe tbody tr th:only-of-type {\n",
       "        vertical-align: middle;\n",
       "    }\n",
       "\n",
       "    .dataframe tbody tr th {\n",
       "        vertical-align: top;\n",
       "    }\n",
       "\n",
       "    .dataframe thead th {\n",
       "        text-align: right;\n",
       "    }\n",
       "</style>\n",
       "<table border=\"1\" class=\"dataframe\">\n",
       "  <thead>\n",
       "    <tr style=\"text-align: right;\">\n",
       "      <th></th>\n",
       "      <th>id</th>\n",
       "      <th>text</th>\n",
       "      <th>is_humor</th>\n",
       "      <th>humor_rating</th>\n",
       "      <th>humor_controversy</th>\n",
       "      <th>offense_rating</th>\n",
       "      <th>sentence_length</th>\n",
       "    </tr>\n",
       "  </thead>\n",
       "  <tbody>\n",
       "    <tr>\n",
       "      <th>1606</th>\n",
       "      <td>1607</td>\n",
       "      <td>Weird situation based questions are great open...</td>\n",
       "      <td>1</td>\n",
       "      <td>1.80</td>\n",
       "      <td>1.0</td>\n",
       "      <td>0.10</td>\n",
       "      <td>33</td>\n",
       "    </tr>\n",
       "    <tr>\n",
       "      <th>2094</th>\n",
       "      <td>2095</td>\n",
       "      <td>Joseph confronts Mary... Joseph: \"Mary, I've h...</td>\n",
       "      <td>1</td>\n",
       "      <td>2.80</td>\n",
       "      <td>1.0</td>\n",
       "      <td>2.05</td>\n",
       "      <td>28</td>\n",
       "    </tr>\n",
       "    <tr>\n",
       "      <th>1034</th>\n",
       "      <td>1035</td>\n",
       "      <td>Why do the French like to eat snails so much? ...</td>\n",
       "      <td>1</td>\n",
       "      <td>2.79</td>\n",
       "      <td>0.0</td>\n",
       "      <td>0.25</td>\n",
       "      <td>15</td>\n",
       "    </tr>\n",
       "    <tr>\n",
       "      <th>7463</th>\n",
       "      <td>7464</td>\n",
       "      <td>\"When we're told not to touch something we usu...</td>\n",
       "      <td>0</td>\n",
       "      <td>NaN</td>\n",
       "      <td>NaN</td>\n",
       "      <td>0.00</td>\n",
       "      <td>24</td>\n",
       "    </tr>\n",
       "    <tr>\n",
       "      <th>5363</th>\n",
       "      <td>5364</td>\n",
       "      <td>Did you hear about the Native American who dra...</td>\n",
       "      <td>1</td>\n",
       "      <td>1.65</td>\n",
       "      <td>0.0</td>\n",
       "      <td>1.80</td>\n",
       "      <td>19</td>\n",
       "    </tr>\n",
       "    <tr>\n",
       "      <th>...</th>\n",
       "      <td>...</td>\n",
       "      <td>...</td>\n",
       "      <td>...</td>\n",
       "      <td>...</td>\n",
       "      <td>...</td>\n",
       "      <td>...</td>\n",
       "      <td>...</td>\n",
       "    </tr>\n",
       "    <tr>\n",
       "      <th>5551</th>\n",
       "      <td>5552</td>\n",
       "      <td>[gym] Personal Trainer: (looking at my workout...</td>\n",
       "      <td>1</td>\n",
       "      <td>2.22</td>\n",
       "      <td>0.0</td>\n",
       "      <td>0.00</td>\n",
       "      <td>26</td>\n",
       "    </tr>\n",
       "    <tr>\n",
       "      <th>6334</th>\n",
       "      <td>6335</td>\n",
       "      <td>I just got a ticket for driving while wearing ...</td>\n",
       "      <td>1</td>\n",
       "      <td>2.25</td>\n",
       "      <td>1.0</td>\n",
       "      <td>0.10</td>\n",
       "      <td>28</td>\n",
       "    </tr>\n",
       "    <tr>\n",
       "      <th>5103</th>\n",
       "      <td>5104</td>\n",
       "      <td>If I learned anything from Forest Gump it's th...</td>\n",
       "      <td>1</td>\n",
       "      <td>2.00</td>\n",
       "      <td>0.0</td>\n",
       "      <td>3.35</td>\n",
       "      <td>16</td>\n",
       "    </tr>\n",
       "    <tr>\n",
       "      <th>2264</th>\n",
       "      <td>2265</td>\n",
       "      <td>\"Gangsta's Paradise\" has no profanity in it be...</td>\n",
       "      <td>0</td>\n",
       "      <td>NaN</td>\n",
       "      <td>NaN</td>\n",
       "      <td>0.00</td>\n",
       "      <td>21</td>\n",
       "    </tr>\n",
       "    <tr>\n",
       "      <th>3660</th>\n",
       "      <td>3661</td>\n",
       "      <td>\"You've gotta get up and try.\" - P!nk.</td>\n",
       "      <td>0</td>\n",
       "      <td>NaN</td>\n",
       "      <td>NaN</td>\n",
       "      <td>0.00</td>\n",
       "      <td>8</td>\n",
       "    </tr>\n",
       "  </tbody>\n",
       "</table>\n",
       "<p>800 rows × 7 columns</p>\n",
       "</div>"
      ],
      "text/plain": [
       "        id                                               text  is_humor  \\\n",
       "1606  1607  Weird situation based questions are great open...         1   \n",
       "2094  2095  Joseph confronts Mary... Joseph: \"Mary, I've h...         1   \n",
       "1034  1035  Why do the French like to eat snails so much? ...         1   \n",
       "7463  7464  \"When we're told not to touch something we usu...         0   \n",
       "5363  5364  Did you hear about the Native American who dra...         1   \n",
       "...    ...                                                ...       ...   \n",
       "5551  5552  [gym] Personal Trainer: (looking at my workout...         1   \n",
       "6334  6335  I just got a ticket for driving while wearing ...         1   \n",
       "5103  5104  If I learned anything from Forest Gump it's th...         1   \n",
       "2264  2265  \"Gangsta's Paradise\" has no profanity in it be...         0   \n",
       "3660  3661             \"You've gotta get up and try.\" - P!nk.         0   \n",
       "\n",
       "      humor_rating  humor_controversy  offense_rating  sentence_length  \n",
       "1606          1.80                1.0            0.10               33  \n",
       "2094          2.80                1.0            2.05               28  \n",
       "1034          2.79                0.0            0.25               15  \n",
       "7463           NaN                NaN            0.00               24  \n",
       "5363          1.65                0.0            1.80               19  \n",
       "...            ...                ...             ...              ...  \n",
       "5551          2.22                0.0            0.00               26  \n",
       "6334          2.25                1.0            0.10               28  \n",
       "5103          2.00                0.0            3.35               16  \n",
       "2264           NaN                NaN            0.00               21  \n",
       "3660           NaN                NaN            0.00                8  \n",
       "\n",
       "[800 rows x 7 columns]"
      ]
     },
     "execution_count": 11,
     "metadata": {},
     "output_type": "execute_result"
    }
   ],
   "source": [
    "dev_data"
   ]
  },
  {
   "cell_type": "code",
   "execution_count": 12,
   "id": "37a925dc",
   "metadata": {},
   "outputs": [
    {
     "name": "stdout",
     "output_type": "stream",
     "text": [
      "Postotak humorističnih tekstova u dev setu: 63.38%\n",
      "Postotak nehumorističnih tekstova u dev setu: 36.62%\n"
     ]
    }
   ],
   "source": [
    "# Broj humorističnih tekstova u dev setu\n",
    "humor_percent = len(dev_data[dev_data['is_humor'] == 1]) / len(dev_data) * 100\n",
    "\n",
    "# Broj nehumorističnih tekstova u dev setu\n",
    "non_humor_percent = len(dev_data[dev_data['is_humor'] == 0]) / len(dev_data) * 100\n",
    "\n",
    "# Ispis rezultata s dvije decimale\n",
    "print(f\"Postotak humorističnih tekstova u dev setu: {humor_percent:.2f}%\")\n",
    "print(f\"Postotak nehumorističnih tekstova u dev setu: {non_humor_percent:.2f}%\")\n"
   ]
  },
  {
   "cell_type": "markdown",
   "id": "5c46e584",
   "metadata": {},
   "source": [
    "## Baseline model"
   ]
  },
  {
   "cell_type": "code",
   "execution_count": 42,
   "id": "b09d18ae",
   "metadata": {},
   "outputs": [
    {
     "name": "stderr",
     "output_type": "stream",
     "text": [
      "[nltk_data] Downloading package stopwords to\n",
      "[nltk_data]     /Users/gasparko/nltk_data...\n",
      "[nltk_data]   Package stopwords is already up-to-date!\n",
      "[nltk_data] Downloading package punkt to /Users/gasparko/nltk_data...\n",
      "[nltk_data]   Package punkt is already up-to-date!\n",
      "[nltk_data] Downloading package wordnet to\n",
      "[nltk_data]     /Users/gasparko/nltk_data...\n",
      "[nltk_data]   Package wordnet is already up-to-date!\n"
     ]
    },
    {
     "data": {
      "text/plain": [
       "True"
      ]
     },
     "execution_count": 42,
     "metadata": {},
     "output_type": "execute_result"
    }
   ],
   "source": [
    "from sklearn.svm import SVC\n",
    "from sklearn.feature_extraction.text import CountVectorizer\n",
    "\n",
    "from gensim.models import Word2Vec\n",
    "\n",
    "from sklearn.metrics import classification_report, accuracy_score\n",
    "from sklearn.compose import ColumnTransformer\n",
    "from sklearn.pipeline import Pipeline\n",
    "from sklearn.preprocessing import FunctionTransformer\n",
    "\n",
    "import nltk\n",
    "from nltk.tokenize import RegexpTokenizer\n",
    "from nltk import WordNetLemmatizer\n",
    "from nltk.corpus import stopwords\n",
    "from nltk.tokenize import word_tokenize\n",
    "\n",
    "from sklearn.metrics import f1_score, accuracy_score\n",
    "import numpy as np\n",
    "\n",
    "nltk.download('stopwords')\n",
    "nltk.download('punkt')\n",
    "nltk.download('wordnet')"
   ]
  },
  {
   "cell_type": "markdown",
   "id": "a351503d",
   "metadata": {},
   "source": [
    "#### Pre-process the data"
   ]
  },
  {
   "cell_type": "markdown",
   "id": "d844ec7a",
   "metadata": {},
   "source": [
    "In order to use Word2Vec, you need to pre-process the data. It's very simple: you just need to split sentences to words (tokenization), bring the words to their basic form (lemmatization), and remove some very common words like articles or prepositions (stop-word removal). I'm using RegexpTokenizer, WordNetLemmatizer and NLTK stop word list"
   ]
  },
  {
   "cell_type": "code",
   "execution_count": 102,
   "id": "6fe786d8",
   "metadata": {},
   "outputs": [],
   "source": [
    "lemmatizer = WordNetLemmatizer()\n",
    "stop_words = set(stopwords.words('english'))"
   ]
  },
  {
   "cell_type": "code",
   "execution_count": 103,
   "id": "23efeb6d",
   "metadata": {},
   "outputs": [],
   "source": [
    "def preprocess_text(text):\n",
    "    tokens = word_tokenize(text)\n",
    "    tokens = [lemmatizer.lemmatize(token) for token in tokens if token.lower() not in stop_words]\n",
    "    return ' '.join(tokens)"
   ]
  },
  {
   "cell_type": "code",
   "execution_count": 104,
   "id": "a040fac0",
   "metadata": {},
   "outputs": [],
   "source": [
    "data['processed_text'] = data['text'].apply(preprocess_text)"
   ]
  },
  {
   "cell_type": "code",
   "execution_count": 106,
   "id": "f1fb7046",
   "metadata": {},
   "outputs": [],
   "source": [
    "X_train, X_test, y_train, y_test = train_test_split(\n",
    "    data['processed_text'], \n",
    "    data['is_humor'], \n",
    "    test_size=0.2, \n",
    "    random_state=42\n",
    ")"
   ]
  },
  {
   "cell_type": "code",
   "execution_count": 107,
   "id": "bd774026",
   "metadata": {},
   "outputs": [],
   "source": [
    "# Word2Vec model training\n",
    "word2vec_model = Word2Vec(sentences=X_train.apply(word_tokenize), vector_size=100, window=5, min_count=1, workers=4)"
   ]
  },
  {
   "cell_type": "code",
   "execution_count": 108,
   "id": "73b71216",
   "metadata": {},
   "outputs": [],
   "source": [
    "# Function to average word vectors for a sentence\n",
    "def average_word_vectors(words, model, vocabulary, num_features):\n",
    "    feature_vector = np.zeros((num_features,), dtype=\"float32\")\n",
    "    n_words = 0\n",
    "    for word in words:\n",
    "        if word in vocabulary:\n",
    "            n_words += 1\n",
    "            feature_vector = np.add(feature_vector, model.wv[word])\n",
    "    if n_words:\n",
    "        feature_vector = np.divide(feature_vector, n_words)\n",
    "    return feature_vector"
   ]
  },
  {
   "cell_type": "code",
   "execution_count": 109,
   "id": "718f06f7",
   "metadata": {},
   "outputs": [],
   "source": [
    "# Transform text data to Word2Vec features\n",
    "def word2vec_features(data, model, num_features):\n",
    "    vocabulary = set(model.wv.index_to_key)\n",
    "    return np.vstack([average_word_vectors(tokens, model, vocabulary, num_features) for tokens in data.apply(word_tokenize)])"
   ]
  },
  {
   "cell_type": "code",
   "execution_count": 110,
   "id": "c6371462",
   "metadata": {},
   "outputs": [],
   "source": [
    "# SVC model\n",
    "svc_model = SVC()"
   ]
  },
  {
   "cell_type": "code",
   "execution_count": 111,
   "id": "0eeb9d01",
   "metadata": {},
   "outputs": [],
   "source": [
    "# Create a pipeline with Word2Vec and SVC\n",
    "model_pipeline = Pipeline([\n",
    "    ('word2vec', FunctionTransformer(lambda x: word2vec_features(x, word2vec_model, 100))),\n",
    "    ('svc', svc_model)\n",
    "])"
   ]
  },
  {
   "cell_type": "code",
   "execution_count": 112,
   "id": "18d4f023",
   "metadata": {},
   "outputs": [
    {
     "data": {
      "text/html": [
       "<style>#sk-container-id-2 {color: black;}#sk-container-id-2 pre{padding: 0;}#sk-container-id-2 div.sk-toggleable {background-color: white;}#sk-container-id-2 label.sk-toggleable__label {cursor: pointer;display: block;width: 100%;margin-bottom: 0;padding: 0.3em;box-sizing: border-box;text-align: center;}#sk-container-id-2 label.sk-toggleable__label-arrow:before {content: \"▸\";float: left;margin-right: 0.25em;color: #696969;}#sk-container-id-2 label.sk-toggleable__label-arrow:hover:before {color: black;}#sk-container-id-2 div.sk-estimator:hover label.sk-toggleable__label-arrow:before {color: black;}#sk-container-id-2 div.sk-toggleable__content {max-height: 0;max-width: 0;overflow: hidden;text-align: left;background-color: #f0f8ff;}#sk-container-id-2 div.sk-toggleable__content pre {margin: 0.2em;color: black;border-radius: 0.25em;background-color: #f0f8ff;}#sk-container-id-2 input.sk-toggleable__control:checked~div.sk-toggleable__content {max-height: 200px;max-width: 100%;overflow: auto;}#sk-container-id-2 input.sk-toggleable__control:checked~label.sk-toggleable__label-arrow:before {content: \"▾\";}#sk-container-id-2 div.sk-estimator input.sk-toggleable__control:checked~label.sk-toggleable__label {background-color: #d4ebff;}#sk-container-id-2 div.sk-label input.sk-toggleable__control:checked~label.sk-toggleable__label {background-color: #d4ebff;}#sk-container-id-2 input.sk-hidden--visually {border: 0;clip: rect(1px 1px 1px 1px);clip: rect(1px, 1px, 1px, 1px);height: 1px;margin: -1px;overflow: hidden;padding: 0;position: absolute;width: 1px;}#sk-container-id-2 div.sk-estimator {font-family: monospace;background-color: #f0f8ff;border: 1px dotted black;border-radius: 0.25em;box-sizing: border-box;margin-bottom: 0.5em;}#sk-container-id-2 div.sk-estimator:hover {background-color: #d4ebff;}#sk-container-id-2 div.sk-parallel-item::after {content: \"\";width: 100%;border-bottom: 1px solid gray;flex-grow: 1;}#sk-container-id-2 div.sk-label:hover label.sk-toggleable__label {background-color: #d4ebff;}#sk-container-id-2 div.sk-serial::before {content: \"\";position: absolute;border-left: 1px solid gray;box-sizing: border-box;top: 0;bottom: 0;left: 50%;z-index: 0;}#sk-container-id-2 div.sk-serial {display: flex;flex-direction: column;align-items: center;background-color: white;padding-right: 0.2em;padding-left: 0.2em;position: relative;}#sk-container-id-2 div.sk-item {position: relative;z-index: 1;}#sk-container-id-2 div.sk-parallel {display: flex;align-items: stretch;justify-content: center;background-color: white;position: relative;}#sk-container-id-2 div.sk-item::before, #sk-container-id-2 div.sk-parallel-item::before {content: \"\";position: absolute;border-left: 1px solid gray;box-sizing: border-box;top: 0;bottom: 0;left: 50%;z-index: -1;}#sk-container-id-2 div.sk-parallel-item {display: flex;flex-direction: column;z-index: 1;position: relative;background-color: white;}#sk-container-id-2 div.sk-parallel-item:first-child::after {align-self: flex-end;width: 50%;}#sk-container-id-2 div.sk-parallel-item:last-child::after {align-self: flex-start;width: 50%;}#sk-container-id-2 div.sk-parallel-item:only-child::after {width: 0;}#sk-container-id-2 div.sk-dashed-wrapped {border: 1px dashed gray;margin: 0 0.4em 0.5em 0.4em;box-sizing: border-box;padding-bottom: 0.4em;background-color: white;}#sk-container-id-2 div.sk-label label {font-family: monospace;font-weight: bold;display: inline-block;line-height: 1.2em;}#sk-container-id-2 div.sk-label-container {text-align: center;}#sk-container-id-2 div.sk-container {/* jupyter's `normalize.less` sets `[hidden] { display: none; }` but bootstrap.min.css set `[hidden] { display: none !important; }` so we also need the `!important` here to be able to override the default hidden behavior on the sphinx rendered scikit-learn.org. See: https://github.com/scikit-learn/scikit-learn/issues/21755 */display: inline-block !important;position: relative;}#sk-container-id-2 div.sk-text-repr-fallback {display: none;}</style><div id=\"sk-container-id-2\" class=\"sk-top-container\"><div class=\"sk-text-repr-fallback\"><pre>Pipeline(steps=[(&#x27;word2vec&#x27;,\n",
       "                 FunctionTransformer(func=&lt;function &lt;lambda&gt; at 0x144dd4400&gt;)),\n",
       "                (&#x27;svc&#x27;, SVC())])</pre><b>In a Jupyter environment, please rerun this cell to show the HTML representation or trust the notebook. <br />On GitHub, the HTML representation is unable to render, please try loading this page with nbviewer.org.</b></div><div class=\"sk-container\" hidden><div class=\"sk-item sk-dashed-wrapped\"><div class=\"sk-label-container\"><div class=\"sk-label sk-toggleable\"><input class=\"sk-toggleable__control sk-hidden--visually\" id=\"sk-estimator-id-4\" type=\"checkbox\" ><label for=\"sk-estimator-id-4\" class=\"sk-toggleable__label sk-toggleable__label-arrow\">Pipeline</label><div class=\"sk-toggleable__content\"><pre>Pipeline(steps=[(&#x27;word2vec&#x27;,\n",
       "                 FunctionTransformer(func=&lt;function &lt;lambda&gt; at 0x144dd4400&gt;)),\n",
       "                (&#x27;svc&#x27;, SVC())])</pre></div></div></div><div class=\"sk-serial\"><div class=\"sk-item\"><div class=\"sk-estimator sk-toggleable\"><input class=\"sk-toggleable__control sk-hidden--visually\" id=\"sk-estimator-id-5\" type=\"checkbox\" ><label for=\"sk-estimator-id-5\" class=\"sk-toggleable__label sk-toggleable__label-arrow\">FunctionTransformer</label><div class=\"sk-toggleable__content\"><pre>FunctionTransformer(func=&lt;function &lt;lambda&gt; at 0x144dd4400&gt;)</pre></div></div></div><div class=\"sk-item\"><div class=\"sk-estimator sk-toggleable\"><input class=\"sk-toggleable__control sk-hidden--visually\" id=\"sk-estimator-id-6\" type=\"checkbox\" ><label for=\"sk-estimator-id-6\" class=\"sk-toggleable__label sk-toggleable__label-arrow\">SVC</label><div class=\"sk-toggleable__content\"><pre>SVC()</pre></div></div></div></div></div></div></div>"
      ],
      "text/plain": [
       "Pipeline(steps=[('word2vec',\n",
       "                 FunctionTransformer(func=<function <lambda> at 0x144dd4400>)),\n",
       "                ('svc', SVC())])"
      ]
     },
     "execution_count": 112,
     "metadata": {},
     "output_type": "execute_result"
    }
   ],
   "source": [
    "# Train the model\n",
    "model_pipeline.fit(X_train, y_train)"
   ]
  },
  {
   "cell_type": "code",
   "execution_count": 132,
   "id": "36bd7f0f",
   "metadata": {},
   "outputs": [
    {
     "name": "stdout",
     "output_type": "stream",
     "text": [
      "Classification report:               precision    recall  f1-score   support\n",
      "\n",
      "           0       0.64      0.12      0.21       616\n",
      "           1       0.64      0.96      0.76       984\n",
      "\n",
      "    accuracy                           0.64      1600\n",
      "   macro avg       0.64      0.54      0.49      1600\n",
      "weighted avg       0.64      0.64      0.55      1600\n",
      "\n",
      "Accuracy: 0.64\n",
      "F1 Score: 0.76\n"
     ]
    }
   ],
   "source": [
    "# Evaluate the model\n",
    "predictions = model_pipeline.predict(X_test)\n",
    "accuracy = accuracy_score(y_test, predictions)\n",
    "f1 = f1_score(y_test, predictions)\n",
    "class_report = classification_report(y_test, predictions)\n",
    "print(f\"Classification report: {class_report}\")\n",
    "print(f\"Accuracy: {accuracy:.2f}\")\n",
    "print(f\"F1 Score: {f1:.2f}\")"
   ]
  },
  {
   "cell_type": "code",
   "execution_count": 114,
   "id": "99596e96",
   "metadata": {},
   "outputs": [
    {
     "data": {
      "text/plain": [
       "2215    1\n",
       "2582    1\n",
       "1662    1\n",
       "3027    0\n",
       "4343    1\n",
       "       ..\n",
       "1079    0\n",
       "7979    1\n",
       "1115    0\n",
       "6093    1\n",
       "6832    1\n",
       "Name: is_humor, Length: 1600, dtype: int64"
      ]
     },
     "execution_count": 114,
     "metadata": {},
     "output_type": "execute_result"
    }
   ],
   "source": [
    "y_test"
   ]
  },
  {
   "cell_type": "code",
   "execution_count": 129,
   "id": "60863f53",
   "metadata": {},
   "outputs": [
    {
     "name": "stdout",
     "output_type": "stream",
     "text": [
      "Number of zeros: 119\n",
      "Number of ones: 1481\n",
      "percentage of humoruous texts: 92.5625%\n"
     ]
    }
   ],
   "source": [
    "count_zeros = (predictions == 0).sum()\n",
    "count_ones = (predictions == 1).sum()\n",
    "\n",
    "print(f\"Number of zeros: {count_zeros}\")\n",
    "print(f\"Number of ones: {count_ones}\")\n",
    "\n",
    "print(f\"percentage of humoruous texts: {count_ones*100 / len(y_test)}%\")"
   ]
  },
  {
   "cell_type": "markdown",
   "id": "17215e85",
   "metadata": {},
   "source": [
    "U train setu je cca 65% humoristicnih tekstova, ovdje je prema prvoj predikciji 93%...Potrebno pogledati splitanje train seta da bude jednaka distribucija u train i test setu"
   ]
  },
  {
   "cell_type": "code",
   "execution_count": 130,
   "id": "348161cc",
   "metadata": {},
   "outputs": [],
   "source": [
    "# Ulazni tekst\n",
    "input_text = \"I am so funny. Am I?\""
   ]
  },
  {
   "cell_type": "code",
   "execution_count": 117,
   "id": "cac4dad0",
   "metadata": {},
   "outputs": [],
   "source": [
    "# Primijeniti istu predobradu teksta\n",
    "processed_input = preprocess_text(input_text)"
   ]
  },
  {
   "cell_type": "code",
   "execution_count": 118,
   "id": "544d3e93",
   "metadata": {},
   "outputs": [],
   "source": [
    "# Pretvoriti tekst u vektor\n",
    "input_vector = average_word_vectors(processed_input, word2vec_model, set(word2vec_model.wv.index_to_key), 100)"
   ]
  },
  {
   "cell_type": "code",
   "execution_count": 119,
   "id": "fa7bbc8c",
   "metadata": {},
   "outputs": [
    {
     "name": "stdout",
     "output_type": "stream",
     "text": [
      "Shape of input vector: (100,)\n"
     ]
    }
   ],
   "source": [
    "# Provjeriti oblik vektora (provjeriti dimenzionalnost)\n",
    "print(\"Shape of input vector:\", input_vector.shape)"
   ]
  },
  {
   "cell_type": "code",
   "execution_count": 120,
   "id": "38839e6b",
   "metadata": {},
   "outputs": [
    {
     "name": "stdout",
     "output_type": "stream",
     "text": [
      "Shape of input vector (2D): (1, 100)\n"
     ]
    },
    {
     "data": {
      "text/plain": [
       "array([[-4.93949771e-01,  6.76344693e-01, -1.43089518e-03,\n",
       "         1.51576489e-01,  1.34153767e-02, -7.77530134e-01,\n",
       "         2.42692754e-01,  1.63301551e+00, -7.11848915e-01,\n",
       "        -4.97749239e-01, -1.67022109e-01, -7.13571548e-01,\n",
       "        -1.42553017e-01,  3.13758105e-01,  1.96109593e-01,\n",
       "        -5.53988516e-01,  3.36742133e-01, -6.04906499e-01,\n",
       "        -2.39247441e-01, -1.13867033e+00,  1.45526618e-01,\n",
       "         1.09273016e-01,  4.55832571e-01, -2.19770491e-01,\n",
       "        -9.96512175e-02,  4.93233986e-02, -4.36265826e-01,\n",
       "        -6.88045844e-03, -8.08161914e-01,  9.45555791e-02,\n",
       "         5.17455876e-01, -1.77536950e-01,  1.88559160e-01,\n",
       "        -8.14770877e-01, -1.58952847e-01,  6.27620459e-01,\n",
       "         3.07435781e-01, -1.95177361e-01, -2.48350546e-01,\n",
       "        -9.09284890e-01, -2.24475265e-02, -6.44807577e-01,\n",
       "        -3.83204907e-01, -1.12460785e-01,  2.39399076e-01,\n",
       "        -3.85139823e-01, -5.32037973e-01,  1.27896741e-01,\n",
       "         2.72586793e-01,  5.15354335e-01,  1.88405856e-01,\n",
       "        -6.06911004e-01, -1.07161023e-01,  5.36637520e-03,\n",
       "        -2.44237676e-01,  7.67798945e-02,  5.24507582e-01,\n",
       "        -2.18032062e-01, -5.42111158e-01,  2.65964419e-01,\n",
       "         2.75620013e-01, -1.94297135e-01, -2.00655800e-03,\n",
       "         7.50696138e-02, -6.76091492e-01,  7.53053486e-01,\n",
       "         3.20032418e-01,  5.78604460e-01, -5.94159663e-01,\n",
       "         6.39292717e-01,  1.43771498e-02,  1.67929351e-01,\n",
       "         7.10162342e-01, -1.92173541e-01,  7.16704071e-01,\n",
       "         4.08645511e-01,  1.36216372e-01,  9.98540148e-02,\n",
       "        -3.61006588e-01, -1.72239766e-01, -2.76917696e-01,\n",
       "        -1.04314856e-01, -4.61980343e-01,  6.75718367e-01,\n",
       "        -1.86077416e-01, -3.50204825e-01,  1.31173968e-01,\n",
       "         4.94680971e-01,  4.69172597e-01,  1.69763878e-01,\n",
       "         7.62074292e-01,  1.84353903e-01,  4.83821064e-01,\n",
       "         3.26205306e-02,  1.39615107e+00,  6.34364545e-01,\n",
       "         8.95020589e-02, -4.63806391e-01, -7.63905188e-03,\n",
       "         9.35608521e-02]], dtype=float32)"
      ]
     },
     "execution_count": 120,
     "metadata": {},
     "output_type": "execute_result"
    }
   ],
   "source": [
    "# Naparviti reshape sa 1D u 2D\n",
    "input_vector_2d = input_vector.reshape(1, -1)\n",
    "print(\"Shape of input vector (2D):\", input_vector_2d.shape)\n",
    "input_vector_2d"
   ]
  },
  {
   "cell_type": "code",
   "execution_count": 122,
   "id": "8fa8a609",
   "metadata": {},
   "outputs": [],
   "source": [
    "# Ovdje dolazi do greske, treba ispraviti model i vidjeti sto je tocno krivo\n",
    "# prediction = model_pipeline.predict(input_vector_2d)\n",
    "\n",
    "# print(\"Predicted class:\", prediction)"
   ]
  }
 ],
 "metadata": {
  "kernelspec": {
   "display_name": "Python 3 (ipykernel)",
   "language": "python",
   "name": "python3"
  },
  "language_info": {
   "codemirror_mode": {
    "name": "ipython",
    "version": 3
   },
   "file_extension": ".py",
   "mimetype": "text/x-python",
   "name": "python",
   "nbconvert_exporter": "python",
   "pygments_lexer": "ipython3",
   "version": "3.11.5"
  }
 },
 "nbformat": 4,
 "nbformat_minor": 5
}
