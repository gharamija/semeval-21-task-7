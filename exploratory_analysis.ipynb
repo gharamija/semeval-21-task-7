{
 "cells": [
  {
   "cell_type": "markdown",
   "id": "c748ad37",
   "metadata": {},
   "source": [
    "# Eksploratorn analiza"
   ]
  },
  {
   "cell_type": "markdown",
   "id": "ebfb0570",
   "metadata": {},
   "source": [
    "Problem kod dataseta u ovom zadatku je što imamo pristup samo train set-u, nemamo validacijskom i test setu. Broj redova, primjera u train setu je 8000 te sam podijelio podatke na sljedeći način: 6400 train set, 800 dev set i 800 test set."
   ]
  },
  {
   "cell_type": "code",
   "execution_count": 3,
   "id": "72d15a18",
   "metadata": {},
   "outputs": [],
   "source": [
    "import pandas as pd"
   ]
  },
  {
   "cell_type": "markdown",
   "id": "e7c10d2e",
   "metadata": {},
   "source": [
    "### Puni dataset"
   ]
  },
  {
   "cell_type": "code",
   "execution_count": 4,
   "id": "4dc4ff37",
   "metadata": {},
   "outputs": [
    {
     "data": {
      "text/html": [
       "<div>\n",
       "<style scoped>\n",
       "    .dataframe tbody tr th:only-of-type {\n",
       "        vertical-align: middle;\n",
       "    }\n",
       "\n",
       "    .dataframe tbody tr th {\n",
       "        vertical-align: top;\n",
       "    }\n",
       "\n",
       "    .dataframe thead th {\n",
       "        text-align: right;\n",
       "    }\n",
       "</style>\n",
       "<table border=\"1\" class=\"dataframe\">\n",
       "  <thead>\n",
       "    <tr style=\"text-align: right;\">\n",
       "      <th></th>\n",
       "      <th>id</th>\n",
       "      <th>text</th>\n",
       "      <th>is_humor</th>\n",
       "      <th>humor_rating</th>\n",
       "      <th>humor_controversy</th>\n",
       "      <th>offense_rating</th>\n",
       "    </tr>\n",
       "  </thead>\n",
       "  <tbody>\n",
       "    <tr>\n",
       "      <th>0</th>\n",
       "      <td>1</td>\n",
       "      <td>TENNESSEE: We're the best state. Nobody even c...</td>\n",
       "      <td>1</td>\n",
       "      <td>2.42</td>\n",
       "      <td>1.0</td>\n",
       "      <td>0.20</td>\n",
       "    </tr>\n",
       "    <tr>\n",
       "      <th>1</th>\n",
       "      <td>2</td>\n",
       "      <td>A man inserted an advertisement in the classif...</td>\n",
       "      <td>1</td>\n",
       "      <td>2.50</td>\n",
       "      <td>1.0</td>\n",
       "      <td>1.10</td>\n",
       "    </tr>\n",
       "    <tr>\n",
       "      <th>2</th>\n",
       "      <td>3</td>\n",
       "      <td>How many men does it take to open a can of bee...</td>\n",
       "      <td>1</td>\n",
       "      <td>1.95</td>\n",
       "      <td>0.0</td>\n",
       "      <td>2.40</td>\n",
       "    </tr>\n",
       "    <tr>\n",
       "      <th>3</th>\n",
       "      <td>4</td>\n",
       "      <td>Told my mom I hit 1200 Twitter followers. She ...</td>\n",
       "      <td>1</td>\n",
       "      <td>2.11</td>\n",
       "      <td>1.0</td>\n",
       "      <td>0.00</td>\n",
       "    </tr>\n",
       "    <tr>\n",
       "      <th>4</th>\n",
       "      <td>5</td>\n",
       "      <td>Roses are dead. Love is fake. Weddings are bas...</td>\n",
       "      <td>1</td>\n",
       "      <td>2.78</td>\n",
       "      <td>0.0</td>\n",
       "      <td>0.10</td>\n",
       "    </tr>\n",
       "    <tr>\n",
       "      <th>...</th>\n",
       "      <td>...</td>\n",
       "      <td>...</td>\n",
       "      <td>...</td>\n",
       "      <td>...</td>\n",
       "      <td>...</td>\n",
       "      <td>...</td>\n",
       "    </tr>\n",
       "    <tr>\n",
       "      <th>7995</th>\n",
       "      <td>7996</td>\n",
       "      <td>Lack of awareness of the pervasiveness of raci...</td>\n",
       "      <td>0</td>\n",
       "      <td>NaN</td>\n",
       "      <td>NaN</td>\n",
       "      <td>0.25</td>\n",
       "    </tr>\n",
       "    <tr>\n",
       "      <th>7996</th>\n",
       "      <td>7997</td>\n",
       "      <td>Why are aspirins white? Because they work sorry</td>\n",
       "      <td>1</td>\n",
       "      <td>1.33</td>\n",
       "      <td>0.0</td>\n",
       "      <td>3.85</td>\n",
       "    </tr>\n",
       "    <tr>\n",
       "      <th>7997</th>\n",
       "      <td>7998</td>\n",
       "      <td>Today, we Americans celebrate our independence...</td>\n",
       "      <td>1</td>\n",
       "      <td>2.55</td>\n",
       "      <td>0.0</td>\n",
       "      <td>0.00</td>\n",
       "    </tr>\n",
       "    <tr>\n",
       "      <th>7998</th>\n",
       "      <td>7999</td>\n",
       "      <td>How to keep the flies off the bride at an Ital...</td>\n",
       "      <td>1</td>\n",
       "      <td>1.00</td>\n",
       "      <td>0.0</td>\n",
       "      <td>3.00</td>\n",
       "    </tr>\n",
       "    <tr>\n",
       "      <th>7999</th>\n",
       "      <td>8000</td>\n",
       "      <td>\"Each ounce of sunflower seeds gives you 37% o...</td>\n",
       "      <td>0</td>\n",
       "      <td>NaN</td>\n",
       "      <td>NaN</td>\n",
       "      <td>0.00</td>\n",
       "    </tr>\n",
       "  </tbody>\n",
       "</table>\n",
       "<p>8000 rows × 6 columns</p>\n",
       "</div>"
      ],
      "text/plain": [
       "        id                                               text  is_humor  \\\n",
       "0        1  TENNESSEE: We're the best state. Nobody even c...         1   \n",
       "1        2  A man inserted an advertisement in the classif...         1   \n",
       "2        3  How many men does it take to open a can of bee...         1   \n",
       "3        4  Told my mom I hit 1200 Twitter followers. She ...         1   \n",
       "4        5  Roses are dead. Love is fake. Weddings are bas...         1   \n",
       "...    ...                                                ...       ...   \n",
       "7995  7996  Lack of awareness of the pervasiveness of raci...         0   \n",
       "7996  7997    Why are aspirins white? Because they work sorry         1   \n",
       "7997  7998  Today, we Americans celebrate our independence...         1   \n",
       "7998  7999  How to keep the flies off the bride at an Ital...         1   \n",
       "7999  8000  \"Each ounce of sunflower seeds gives you 37% o...         0   \n",
       "\n",
       "      humor_rating  humor_controversy  offense_rating  \n",
       "0             2.42                1.0            0.20  \n",
       "1             2.50                1.0            1.10  \n",
       "2             1.95                0.0            2.40  \n",
       "3             2.11                1.0            0.00  \n",
       "4             2.78                0.0            0.10  \n",
       "...            ...                ...             ...  \n",
       "7995           NaN                NaN            0.25  \n",
       "7996          1.33                0.0            3.85  \n",
       "7997          2.55                0.0            0.00  \n",
       "7998          1.00                0.0            3.00  \n",
       "7999           NaN                NaN            0.00  \n",
       "\n",
       "[8000 rows x 6 columns]"
      ]
     },
     "execution_count": 4,
     "metadata": {},
     "output_type": "execute_result"
    }
   ],
   "source": [
    "data = pd.read_csv('data/dataset.csv')\n",
    "data"
   ]
  },
  {
   "cell_type": "markdown",
   "id": "d7d3f3a7",
   "metadata": {},
   "source": [
    "Značenje stupaca:\n",
    "\n",
    "- id - Ovo je identifikacijski broj za svaku recenicu. Može se koristiti za jedinstveno identificiranje svake stavke u skupu podataka.\n",
    "- text - Ovaj stupac sadrži rečenice koje je potrebno analizirati.\n",
    "- is_humor - binarna oznaka (0 ili 1) koja označava ima li rečenica humor ili ne. Ako je vrijednost 1, rečenica je označena kao humoristična, ako je 0, rečenica nije .\n",
    "- humor_rating - Numerička ocjena (1-5) koja predstavlja subjektivnu percepciju anotatora o tome koliko je rečenica smiješna. Anotatori su ocijenili smiješnost rečenice na skali od 1 do 5.\n",
    "- humor_controversy - Binarna oznaka (0 ili 1) koja označava ima li kontroverzu humora u rečenici. Ako je vrijednost 1, to znači da je ocjena humora za tu rečenicu kontroverzna.\n",
    "- offense_rating - Numerička ocjena (1-5) koja predstavlja subjektivnu percepciju anotatora o tome koliko je rečenica uvredljiva. Anotatori su ocijenili razinu uvredljivosti rečenice na skali od 1 do 5. Ovdje se također razmatra da nedavanje ocjene jednako 0."
   ]
  },
  {
   "cell_type": "code",
   "execution_count": 5,
   "id": "4153fe1a",
   "metadata": {},
   "outputs": [
    {
     "name": "stdout",
     "output_type": "stream",
     "text": [
      "               id     is_humor  humor_rating  humor_controversy  \\\n",
      "count  8000.00000  8000.000000   4932.000000        4932.000000   \n",
      "mean   4000.50000     0.616500      2.260525           0.499797   \n",
      "std    2309.54541     0.486269      0.566974           0.500051   \n",
      "min       1.00000     0.000000      0.100000           0.000000   \n",
      "25%    2000.75000     0.000000      1.890000           0.000000   \n",
      "50%    4000.50000     1.000000      2.280000           0.000000   \n",
      "75%    6000.25000     1.000000      2.650000           1.000000   \n",
      "max    8000.00000     1.000000      4.000000           1.000000   \n",
      "\n",
      "       offense_rating  \n",
      "count     8000.000000  \n",
      "mean         0.585325  \n",
      "std          0.979955  \n",
      "min          0.000000  \n",
      "25%          0.000000  \n",
      "50%          0.100000  \n",
      "75%          0.700000  \n",
      "max          4.850000  \n",
      "\n",
      "\n",
      "Broj humoristicnih tekstova: 4932\n",
      "Broj ne humoristicnih: 3068\n",
      "Broj NaN zapisa: 0\n",
      "Broj NaN zapisa: 3068\n",
      "Broj NaN zapisa: 3068\n",
      "Broj NaN zapisa: 0\n"
     ]
    }
   ],
   "source": [
    "print(data.describe())\n",
    "print()\n",
    "print()\n",
    "print(f\"Broj humoristicnih tekstova: {len(data[data['is_humor'] == 1])}\")\n",
    "print(f\"Broj ne humoristicnih: {len(data[data['is_humor'] == 0])}\")\n",
    "print(f\"Broj NaN zapisa: {len(data[data['is_humor'].isna()])}\")\n",
    "print(f\"Broj NaN zapisa: {len(data[data['humor_rating'].isna()])}\")\n",
    "print(f\"Broj NaN zapisa: {len(data[data['humor_controversy'].isna()])}\")\n",
    "print(f\"Broj NaN zapisa: {len(data[data['offense_rating'].isna()])}\")"
   ]
  },
  {
   "cell_type": "code",
   "execution_count": 6,
   "id": "c3861331",
   "metadata": {},
   "outputs": [
    {
     "name": "stdout",
     "output_type": "stream",
     "text": [
      "Broj redaka bez NaN vrijednosti u 'text' stupcu: 8000\n"
     ]
    }
   ],
   "source": [
    "# Provjerava ima li unos u svakom redu za 'text' stupac\n",
    "text_column_not_null = data['text'].dropna()\n",
    "\n",
    "# Ispisuje duljinu rezultirajućeg DataFrame-a\n",
    "print(f\"Broj redaka bez NaN vrijednosti u 'text' stupcu: {len(text_column_not_null)}\")"
   ]
  },
  {
   "cell_type": "code",
   "execution_count": 7,
   "id": "8d34ab21",
   "metadata": {},
   "outputs": [
    {
     "name": "stdout",
     "output_type": "stream",
     "text": [
      "Udio kontroverznosti humora: 30.81%\n"
     ]
    }
   ],
   "source": [
    "# Udio kontroverznosti humora\n",
    "controversial_count = data['humor_controversy'].sum()\n",
    "total_samples = len(data)\n",
    "\n",
    "print(f\"Udio kontroverznosti humora: {controversial_count / total_samples * 100:.2f}%\")"
   ]
  },
  {
   "cell_type": "code",
   "execution_count": 8,
   "id": "39757bd9",
   "metadata": {
    "scrolled": true
   },
   "outputs": [
    {
     "name": "stdout",
     "output_type": "stream",
     "text": [
      "                                                text  sentence_length\n",
      "0  TENNESSEE: We're the best state. Nobody even c...               17\n",
      "1  A man inserted an advertisement in the classif...               32\n",
      "2  How many men does it take to open a can of bee...               26\n",
      "3  Told my mom I hit 1200 Twitter followers. She ...               26\n",
      "4  Roses are dead. Love is fake. Weddings are bas...               12\n",
      "sentence_length    20.889375\n",
      "dtype: float64\n",
      "is_humor\n",
      "0    21.932855\n",
      "1    20.240268\n",
      "Name: sentence_length, dtype: float64\n"
     ]
    }
   ],
   "source": [
    "# Analiza duljine rečenica\n",
    "data['sentence_length'] = data['text'].apply(lambda x: len(x.split()))\n",
    "print(data[['text', 'sentence_length']].head())\n",
    "print(data[['sentence_length']].mean())\n",
    "print(data.groupby('is_humor')['sentence_length'].mean())"
   ]
  },
  {
   "cell_type": "markdown",
   "id": "db72dbc6",
   "metadata": {},
   "source": [
    "Training set ne sadrži neispravne primjere. Gdje su vrijednosti is_humor == 0, tj. za tekstove koji nisu humoristični nema vrijednosti humor_rating\ti humor_controversy jer to za njih niti nije moguće izračunati."
   ]
  },
  {
   "cell_type": "markdown",
   "id": "6a40bbb0",
   "metadata": {},
   "source": [
    "### Podjela dataset-a"
   ]
  },
  {
   "cell_type": "code",
   "execution_count": 9,
   "id": "06ec1279",
   "metadata": {
    "scrolled": true
   },
   "outputs": [
    {
     "name": "stdout",
     "output_type": "stream",
     "text": [
      "Size of train set: 6400\n",
      "Size of dev set: 800\n",
      "Size of test set: 800\n"
     ]
    }
   ],
   "source": [
    "from sklearn.model_selection import StratifiedShuffleSplit\n",
    "\n",
    "# Assuming you have a dataframe 'data' with features and labels\n",
    "# X contains your features, y contains your labels\n",
    "\n",
    "# Create an instance of StratifiedShuffleSplit for splitting into train and temp sets\n",
    "stratified_splitter_train_temp = StratifiedShuffleSplit(n_splits=1, test_size=0.2, random_state=42)\n",
    "\n",
    "# Use the splitter to generate indices for train and temp sets\n",
    "for train_index, temp_index in stratified_splitter_train_temp.split(data, data['is_humor']):\n",
    "    train_data, temp_data = data.iloc[train_index], data.iloc[temp_index]\n",
    "\n",
    "# Create an instance of StratifiedShuffleSplit for further splitting temp into dev and test sets\n",
    "stratified_splitter_temp_dev_test = StratifiedShuffleSplit(n_splits=1, test_size=0.5, random_state=42)\n",
    "\n",
    "# Use the splitter to generate indices for dev and test sets\n",
    "for dev_index, test_index in stratified_splitter_temp_dev_test.split(temp_data, temp_data['is_humor']):\n",
    "    dev_data, test_data = temp_data.iloc[dev_index], temp_data.iloc[test_index]\n",
    "\n",
    "# Print the sizes of the obtained sets\n",
    "print(f\"Size of train set: {len(train_data)}\")\n",
    "print(f\"Size of dev set: {len(dev_data)}\")\n",
    "print(f\"Size of test set: {len(test_data)}\")\n"
   ]
  },
  {
   "cell_type": "code",
   "execution_count": 10,
   "id": "578e77e1",
   "metadata": {},
   "outputs": [],
   "source": [
    "# Spremi train set u CSV file\n",
    "train_data.to_csv('data/train.csv', index=False)\n",
    "\n",
    "# Spremi dev set u CSV file\n",
    "dev_data.to_csv('data/dev.csv', index=False)\n",
    "\n",
    "# Spremi test set u CSV file\n",
    "test_data.to_csv('data/test.csv', index=False)"
   ]
  },
  {
   "cell_type": "markdown",
   "id": "12f408b0",
   "metadata": {},
   "source": [
    "### Odnos humorističnih i nehumorističnih tekstova u train i dev setu"
   ]
  },
  {
   "cell_type": "code",
   "execution_count": 1,
   "id": "be9b16fe",
   "metadata": {
    "ExecuteTime": {
     "end_time": "2023-11-15T16:31:34.315146Z",
     "start_time": "2023-11-15T16:31:34.223500Z"
    }
   },
   "outputs": [
    {
     "ename": "NameError",
     "evalue": "name 'train_data' is not defined",
     "output_type": "error",
     "traceback": [
      "\u001B[0;31m---------------------------------------------------------------------------\u001B[0m",
      "\u001B[0;31mNameError\u001B[0m                                 Traceback (most recent call last)",
      "Cell \u001B[0;32mIn[1], line 1\u001B[0m\n\u001B[0;32m----> 1\u001B[0m \u001B[43mtrain_data\u001B[49m\n",
      "\u001B[0;31mNameError\u001B[0m: name 'train_data' is not defined"
     ]
    }
   ],
   "source": [
    "train_data"
   ]
  },
  {
   "cell_type": "code",
   "execution_count": 12,
   "id": "ec291252",
   "metadata": {},
   "outputs": [
    {
     "name": "stdout",
     "output_type": "stream",
     "text": [
      "Postotak humorističnih tekstova u train setu: 61.66%\n",
      "Postotak nehumorističnih tekstova u train setu: 38.34%\n"
     ]
    }
   ],
   "source": [
    "# Broj humorističnih tekstova u train setu\n",
    "humor_percent = len(train_data[train_data['is_humor'] == 1]) / len(train_data) * 100\n",
    "\n",
    "# Broj nehumorističnih tekstova u train setu\n",
    "non_humor_percent = len(train_data[train_data['is_humor'] == 0]) / len(train_data) * 100\n",
    "\n",
    "# Ispis rezultata s dvije decimale\n",
    "print(f\"Postotak humorističnih tekstova u train setu: {humor_percent:.2f}%\")\n",
    "print(f\"Postotak nehumorističnih tekstova u train setu: {non_humor_percent:.2f}%\")\n",
    "\n"
   ]
  },
  {
   "cell_type": "code",
   "execution_count": 13,
   "id": "dcdfa08a",
   "metadata": {},
   "outputs": [
    {
     "data": {
      "text/html": [
       "<div>\n",
       "<style scoped>\n",
       "    .dataframe tbody tr th:only-of-type {\n",
       "        vertical-align: middle;\n",
       "    }\n",
       "\n",
       "    .dataframe tbody tr th {\n",
       "        vertical-align: top;\n",
       "    }\n",
       "\n",
       "    .dataframe thead th {\n",
       "        text-align: right;\n",
       "    }\n",
       "</style>\n",
       "<table border=\"1\" class=\"dataframe\">\n",
       "  <thead>\n",
       "    <tr style=\"text-align: right;\">\n",
       "      <th></th>\n",
       "      <th>id</th>\n",
       "      <th>text</th>\n",
       "      <th>is_humor</th>\n",
       "      <th>humor_rating</th>\n",
       "      <th>humor_controversy</th>\n",
       "      <th>offense_rating</th>\n",
       "      <th>sentence_length</th>\n",
       "    </tr>\n",
       "  </thead>\n",
       "  <tbody>\n",
       "    <tr>\n",
       "      <th>1864</th>\n",
       "      <td>1865</td>\n",
       "      <td>Me: What are my chances doc? Doctor: The surge...</td>\n",
       "      <td>1</td>\n",
       "      <td>2.40</td>\n",
       "      <td>1.0</td>\n",
       "      <td>0.00</td>\n",
       "      <td>32</td>\n",
       "    </tr>\n",
       "    <tr>\n",
       "      <th>7235</th>\n",
       "      <td>7236</td>\n",
       "      <td>Why do fish live in salt water? Because pepper...</td>\n",
       "      <td>1</td>\n",
       "      <td>2.60</td>\n",
       "      <td>1.0</td>\n",
       "      <td>0.00</td>\n",
       "      <td>13</td>\n",
       "    </tr>\n",
       "    <tr>\n",
       "      <th>2687</th>\n",
       "      <td>2688</td>\n",
       "      <td>Family, we appreciate your patience. Due to fu...</td>\n",
       "      <td>0</td>\n",
       "      <td>NaN</td>\n",
       "      <td>NaN</td>\n",
       "      <td>0.00</td>\n",
       "      <td>46</td>\n",
       "    </tr>\n",
       "    <tr>\n",
       "      <th>1454</th>\n",
       "      <td>1455</td>\n",
       "      <td>John F. Kennedy's brain has been missing for 5...</td>\n",
       "      <td>1</td>\n",
       "      <td>1.27</td>\n",
       "      <td>0.0</td>\n",
       "      <td>1.55</td>\n",
       "      <td>10</td>\n",
       "    </tr>\n",
       "    <tr>\n",
       "      <th>7830</th>\n",
       "      <td>7831</td>\n",
       "      <td>\"Blueberry juice boosts memory\"</td>\n",
       "      <td>0</td>\n",
       "      <td>NaN</td>\n",
       "      <td>NaN</td>\n",
       "      <td>0.05</td>\n",
       "      <td>4</td>\n",
       "    </tr>\n",
       "    <tr>\n",
       "      <th>...</th>\n",
       "      <td>...</td>\n",
       "      <td>...</td>\n",
       "      <td>...</td>\n",
       "      <td>...</td>\n",
       "      <td>...</td>\n",
       "      <td>...</td>\n",
       "      <td>...</td>\n",
       "    </tr>\n",
       "    <tr>\n",
       "      <th>1803</th>\n",
       "      <td>1804</td>\n",
       "      <td>On a daily basis some young gay guys get HIV t...</td>\n",
       "      <td>0</td>\n",
       "      <td>NaN</td>\n",
       "      <td>NaN</td>\n",
       "      <td>0.00</td>\n",
       "      <td>51</td>\n",
       "    </tr>\n",
       "    <tr>\n",
       "      <th>4749</th>\n",
       "      <td>4750</td>\n",
       "      <td>just had a redbull, feelin' good, energetic, m...</td>\n",
       "      <td>0</td>\n",
       "      <td>NaN</td>\n",
       "      <td>NaN</td>\n",
       "      <td>0.00</td>\n",
       "      <td>22</td>\n",
       "    </tr>\n",
       "    <tr>\n",
       "      <th>2140</th>\n",
       "      <td>2141</td>\n",
       "      <td>We would like to remind you that registration ...</td>\n",
       "      <td>0</td>\n",
       "      <td>NaN</td>\n",
       "      <td>NaN</td>\n",
       "      <td>0.20</td>\n",
       "      <td>22</td>\n",
       "    </tr>\n",
       "    <tr>\n",
       "      <th>4140</th>\n",
       "      <td>4141</td>\n",
       "      <td>I'm a big fan of people being exactly who they...</td>\n",
       "      <td>0</td>\n",
       "      <td>NaN</td>\n",
       "      <td>NaN</td>\n",
       "      <td>0.00</td>\n",
       "      <td>16</td>\n",
       "    </tr>\n",
       "    <tr>\n",
       "      <th>749</th>\n",
       "      <td>750</td>\n",
       "      <td>Everybody's a gangster until they get punched ...</td>\n",
       "      <td>1</td>\n",
       "      <td>2.89</td>\n",
       "      <td>1.0</td>\n",
       "      <td>0.25</td>\n",
       "      <td>19</td>\n",
       "    </tr>\n",
       "  </tbody>\n",
       "</table>\n",
       "<p>800 rows × 7 columns</p>\n",
       "</div>"
      ],
      "text/plain": [
       "        id                                               text  is_humor  \\\n",
       "1864  1865  Me: What are my chances doc? Doctor: The surge...         1   \n",
       "7235  7236  Why do fish live in salt water? Because pepper...         1   \n",
       "2687  2688  Family, we appreciate your patience. Due to fu...         0   \n",
       "1454  1455  John F. Kennedy's brain has been missing for 5...         1   \n",
       "7830  7831                    \"Blueberry juice boosts memory\"         0   \n",
       "...    ...                                                ...       ...   \n",
       "1803  1804  On a daily basis some young gay guys get HIV t...         0   \n",
       "4749  4750  just had a redbull, feelin' good, energetic, m...         0   \n",
       "2140  2141  We would like to remind you that registration ...         0   \n",
       "4140  4141  I'm a big fan of people being exactly who they...         0   \n",
       "749    750  Everybody's a gangster until they get punched ...         1   \n",
       "\n",
       "      humor_rating  humor_controversy  offense_rating  sentence_length  \n",
       "1864          2.40                1.0            0.00               32  \n",
       "7235          2.60                1.0            0.00               13  \n",
       "2687           NaN                NaN            0.00               46  \n",
       "1454          1.27                0.0            1.55               10  \n",
       "7830           NaN                NaN            0.05                4  \n",
       "...            ...                ...             ...              ...  \n",
       "1803           NaN                NaN            0.00               51  \n",
       "4749           NaN                NaN            0.00               22  \n",
       "2140           NaN                NaN            0.20               22  \n",
       "4140           NaN                NaN            0.00               16  \n",
       "749           2.89                1.0            0.25               19  \n",
       "\n",
       "[800 rows x 7 columns]"
      ]
     },
     "execution_count": 13,
     "metadata": {},
     "output_type": "execute_result"
    }
   ],
   "source": [
    "dev_data"
   ]
  },
  {
   "cell_type": "code",
   "execution_count": 14,
   "id": "37a925dc",
   "metadata": {},
   "outputs": [
    {
     "name": "stdout",
     "output_type": "stream",
     "text": [
      "Postotak humorističnih tekstova u dev setu: 61.62%\n",
      "Postotak nehumorističnih tekstova u dev setu: 38.38%\n"
     ]
    }
   ],
   "source": [
    "# Broj humorističnih tekstova u dev setu\n",
    "humor_percent = len(dev_data[dev_data['is_humor'] == 1]) / len(dev_data) * 100\n",
    "\n",
    "# Broj nehumorističnih tekstova u dev setu\n",
    "non_humor_percent = len(dev_data[dev_data['is_humor'] == 0]) / len(dev_data) * 100\n",
    "\n",
    "# Ispis rezultata s dvije decimale\n",
    "print(f\"Postotak humorističnih tekstova u dev setu: {humor_percent:.2f}%\")\n",
    "print(f\"Postotak nehumorističnih tekstova u dev setu: {non_humor_percent:.2f}%\")\n"
   ]
  }
 ],
 "metadata": {
  "kernelspec": {
   "display_name": "Python 3 (ipykernel)",
   "language": "python",
   "name": "python3"
  },
  "language_info": {
   "codemirror_mode": {
    "name": "ipython",
    "version": 3
   },
   "file_extension": ".py",
   "mimetype": "text/x-python",
   "name": "python",
   "nbconvert_exporter": "python",
   "pygments_lexer": "ipython3",
   "version": "3.11.5"
  }
 },
 "nbformat": 4,
 "nbformat_minor": 5
}
