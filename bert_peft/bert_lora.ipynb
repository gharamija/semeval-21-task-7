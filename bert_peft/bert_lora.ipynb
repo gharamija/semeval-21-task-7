{
 "cells": [
  {
   "cell_type": "markdown",
   "source": [
    "# Fine-tuning with Low-Rank Adaptation (LoRA)"
   ],
   "metadata": {
    "collapsed": false
   },
   "id": "fb8e0ade4d0a3de3"
  },
  {
   "cell_type": "code",
   "execution_count": 3,
   "id": "initial_id",
   "metadata": {
    "collapsed": true,
    "ExecuteTime": {
     "end_time": "2024-01-03T10:27:53.377900Z",
     "start_time": "2024-01-03T10:27:51.466379Z"
    }
   },
   "outputs": [],
   "source": [
    "import pandas as pd\n",
    "from peft import LoraConfig, TaskType, get_peft_model\n",
    "import transformers\n",
    "from transformers import BertForSequenceClassification, TrainingArguments, Trainer, AutoTokenizer\n",
    "from datasets import load_dataset\n",
    "import numpy as np\n",
    "from sklearn.metrics import accuracy_score, precision_score, recall_score, f1_score\n",
    "\n",
    "transformers.logging.set_verbosity_error()"
   ]
  },
  {
   "cell_type": "markdown",
   "source": [
    "## Dataset loading"
   ],
   "metadata": {
    "collapsed": false
   },
   "id": "b0236be551b22753"
  },
  {
   "cell_type": "code",
   "execution_count": 16,
   "outputs": [],
   "source": [
    "train_data = (load_dataset('csv', data_files='../data/train.csv', split='train')\n",
    "              .class_encode_column('is_humor')\n",
    "              .rename_column('is_humor', 'labels'))\n",
    "\n",
    "dev_data = (load_dataset('csv', data_files='../data/dev.csv', split='train')\n",
    "            .class_encode_column('is_humor')\n",
    "            .rename_column('is_humor', 'labels'))\n",
    "\n",
    "test_data = (load_dataset('csv', data_files='../data/test.csv', split='train')\n",
    "             .class_encode_column('is_humor')\n",
    "             .rename_column('is_humor', 'labels'))"
   ],
   "metadata": {
    "collapsed": false,
    "ExecuteTime": {
     "end_time": "2024-01-03T10:43:12.601200Z",
     "start_time": "2024-01-03T10:43:10.819431Z"
    }
   },
   "id": "72d9549de00dcb17"
  },
  {
   "cell_type": "markdown",
   "source": [
    "## Model setup"
   ],
   "metadata": {
    "collapsed": false
   },
   "id": "c3e77c9add4b6820"
  },
  {
   "cell_type": "code",
   "execution_count": 17,
   "outputs": [],
   "source": [
    "tokenizer = AutoTokenizer.from_pretrained('bert-base-uncased')\n",
    "\n",
    "def tokenize(examples):\n",
    "    return tokenizer(examples['text'], padding=\"max_length\", truncation=True)"
   ],
   "metadata": {
    "collapsed": false,
    "ExecuteTime": {
     "end_time": "2024-01-03T10:43:14.656487Z",
     "start_time": "2024-01-03T10:43:14.398672Z"
    }
   },
   "id": "f30d8659d0e6ce14"
  },
  {
   "cell_type": "code",
   "execution_count": 18,
   "outputs": [
    {
     "data": {
      "text/plain": "Map:   0%|          | 0/6400 [00:00<?, ? examples/s]",
      "application/vnd.jupyter.widget-view+json": {
       "version_major": 2,
       "version_minor": 0,
       "model_id": "25ac2127d7ba4e7e91c3428213cfa819"
      }
     },
     "metadata": {},
     "output_type": "display_data"
    },
    {
     "data": {
      "text/plain": "Map:   0%|          | 0/800 [00:00<?, ? examples/s]",
      "application/vnd.jupyter.widget-view+json": {
       "version_major": 2,
       "version_minor": 0,
       "model_id": "685f14e494c948038e4a94a972a212c5"
      }
     },
     "metadata": {},
     "output_type": "display_data"
    },
    {
     "data": {
      "text/plain": "Map:   0%|          | 0/800 [00:00<?, ? examples/s]",
      "application/vnd.jupyter.widget-view+json": {
       "version_major": 2,
       "version_minor": 0,
       "model_id": "1ca0bcfae18a44ecbf436f8282373211"
      }
     },
     "metadata": {},
     "output_type": "display_data"
    }
   ],
   "source": [
    "train_data = train_data.map(tokenize, batched=True)\n",
    "dev_data = dev_data.map(tokenize, batched=True)\n",
    "test_data = test_data.map(tokenize, batched=True)"
   ],
   "metadata": {
    "collapsed": false,
    "ExecuteTime": {
     "end_time": "2024-01-03T10:43:15.970223Z",
     "start_time": "2024-01-03T10:43:15.088445Z"
    }
   },
   "id": "46c4139533a898ac"
  },
  {
   "cell_type": "code",
   "execution_count": 19,
   "outputs": [],
   "source": [
    "model = BertForSequenceClassification.from_pretrained('bert-base-uncased', num_labels=2)"
   ],
   "metadata": {
    "collapsed": false,
    "ExecuteTime": {
     "end_time": "2024-01-03T10:43:19.017488Z",
     "start_time": "2024-01-03T10:43:17.605738Z"
    }
   },
   "id": "ff5d45d58eb77fd2"
  },
  {
   "cell_type": "markdown",
   "source": [
    "## LoRA Setup "
   ],
   "metadata": {
    "collapsed": false
   },
   "id": "2801a145df1cac9c"
  },
  {
   "cell_type": "code",
   "execution_count": 20,
   "outputs": [],
   "source": [
    "lora_config = LoraConfig(\n",
    "    task_type=TaskType.SEQ_CLS,\n",
    "    r=1,\n",
    "    lora_alpha=1,\n",
    "    lora_dropout=0.1,\n",
    "    bias=\"none\"\n",
    ")"
   ],
   "metadata": {
    "collapsed": false,
    "ExecuteTime": {
     "end_time": "2024-01-03T10:43:19.036558Z",
     "start_time": "2024-01-03T10:43:19.033166Z"
    }
   },
   "id": "d0b2a13ef765f180"
  },
  {
   "cell_type": "code",
   "execution_count": 21,
   "outputs": [
    {
     "name": "stdout",
     "output_type": "stream",
     "text": [
      "trainable params: 38,402 || all params: 109,522,180 || trainable%: 0.035063217331868304\n"
     ]
    }
   ],
   "source": [
    "peft_model = get_peft_model(model, lora_config)\n",
    "peft_model.print_trainable_parameters()"
   ],
   "metadata": {
    "collapsed": false,
    "ExecuteTime": {
     "end_time": "2024-01-03T10:43:19.841521Z",
     "start_time": "2024-01-03T10:43:19.807062Z"
    }
   },
   "id": "3d5f08fdd32ba5cb"
  },
  {
   "cell_type": "code",
   "execution_count": 22,
   "outputs": [],
   "source": [
    "def compute_metrics(eval_pred):\n",
    "    logits, labels = eval_pred\n",
    "    predictions = np.argmax(logits, axis=-1)\n",
    "    \n",
    "    # accuracy = accuracy_score(labels, predictions)\n",
    "    # precision = precision_score(labels, predictions, average='weighted')\n",
    "    # recall = recall_score(labels, predictions, average='weighted')\n",
    "    f1 = f1_score(labels, predictions, average='weighted')\n",
    "    \n",
    "    return {\n",
    "        # 'accuracy': accuracy,\n",
    "        # 'precision': precision,\n",
    "        # 'recall': recall,\n",
    "        'f1': f1\n",
    "    }\n",
    "    "
   ],
   "metadata": {
    "collapsed": false,
    "ExecuteTime": {
     "end_time": "2024-01-03T10:43:22.227886Z",
     "start_time": "2024-01-03T10:43:22.218184Z"
    }
   },
   "id": "405fe36c0c8e879e"
  },
  {
   "cell_type": "markdown",
   "source": [
    "## Training setup"
   ],
   "metadata": {
    "collapsed": false
   },
   "id": "49123c6c654cac10"
  },
  {
   "cell_type": "code",
   "execution_count": 23,
   "outputs": [],
   "source": [
    "training_arguments = TrainingArguments(\n",
    "    output_dir='bert-lora-humor-detection',\n",
    "    evaluation_strategy=\"epoch\",\n",
    "    num_train_epochs=2,\n",
    ")"
   ],
   "metadata": {
    "collapsed": false,
    "ExecuteTime": {
     "end_time": "2024-01-03T10:43:31.185497Z",
     "start_time": "2024-01-03T10:43:31.180590Z"
    }
   },
   "id": "14fd61069fb74f"
  },
  {
   "cell_type": "code",
   "execution_count": 24,
   "outputs": [],
   "source": [
    "trainer = Trainer(\n",
    "    model=peft_model,\n",
    "    args=training_arguments,\n",
    "    train_dataset=train_data,\n",
    "    eval_dataset=dev_data,\n",
    "    tokenizer=tokenizer,\n",
    "    compute_metrics=compute_metrics\n",
    ")"
   ],
   "metadata": {
    "collapsed": false,
    "ExecuteTime": {
     "end_time": "2024-01-03T10:43:33.797320Z",
     "start_time": "2024-01-03T10:43:32.576135Z"
    }
   },
   "id": "d106bc4e09c1a673"
  },
  {
   "cell_type": "code",
   "execution_count": 25,
   "outputs": [
    {
     "name": "stdout",
     "output_type": "stream",
     "text": [
      "{'loss': 0.6242, 'learning_rate': 3.4375e-05, 'epoch': 0.62}\n",
      "{'eval_loss': 0.4745866358280182, 'eval_f1': 0.8221189839572193, 'eval_runtime': 43.1229, 'eval_samples_per_second': 18.552, 'eval_steps_per_second': 2.319, 'epoch': 1.0}\n",
      "{'loss': 0.5111, 'learning_rate': 1.8750000000000002e-05, 'epoch': 1.25}\n",
      "{'loss': 0.3836, 'learning_rate': 3.125e-06, 'epoch': 1.88}\n",
      "{'eval_loss': 0.349575400352478, 'eval_f1': 0.8605523149638341, 'eval_runtime': 36.823, 'eval_samples_per_second': 21.726, 'eval_steps_per_second': 2.716, 'epoch': 2.0}\n",
      "{'train_runtime': 1625.9213, 'train_samples_per_second': 7.872, 'train_steps_per_second': 0.984, 'train_loss': 0.4949262857437134, 'epoch': 2.0}\n"
     ]
    },
    {
     "data": {
      "text/plain": "TrainOutput(global_step=1600, training_loss=0.4949262857437134, metrics={'train_runtime': 1625.9213, 'train_samples_per_second': 7.872, 'train_steps_per_second': 0.984, 'train_loss': 0.4949262857437134, 'epoch': 2.0})"
     },
     "execution_count": 25,
     "metadata": {},
     "output_type": "execute_result"
    }
   ],
   "source": [
    "trainer.train()"
   ],
   "metadata": {
    "collapsed": false,
    "ExecuteTime": {
     "end_time": "2024-01-03T11:10:42.008215Z",
     "start_time": "2024-01-03T10:43:36.058177Z"
    }
   },
   "id": "4daaba7279b4f91f"
  },
  {
   "cell_type": "code",
   "execution_count": 26,
   "outputs": [
    {
     "data": {
      "text/plain": "{'test_loss': 0.3577665686607361,\n 'test_f1': 0.8537736197348548,\n 'test_runtime': 37.9098,\n 'test_samples_per_second': 21.103,\n 'test_steps_per_second': 2.638}"
     },
     "execution_count": 26,
     "metadata": {},
     "output_type": "execute_result"
    }
   ],
   "source": [
    "trainer.predict(test_data).metrics"
   ],
   "metadata": {
    "collapsed": false,
    "ExecuteTime": {
     "end_time": "2024-01-03T11:11:55.934269Z",
     "start_time": "2024-01-03T11:11:18.006993Z"
    }
   },
   "id": "2179e3b93ffc48d1"
  },
  {
   "cell_type": "code",
   "execution_count": null,
   "outputs": [],
   "source": [],
   "metadata": {
    "collapsed": false
   },
   "id": "afadf34ce0c76fbd"
  }
 ],
 "metadata": {
  "kernelspec": {
   "display_name": "Python 3",
   "language": "python",
   "name": "python3"
  },
  "language_info": {
   "codemirror_mode": {
    "name": "ipython",
    "version": 2
   },
   "file_extension": ".py",
   "mimetype": "text/x-python",
   "name": "python",
   "nbconvert_exporter": "python",
   "pygments_lexer": "ipython2",
   "version": "2.7.6"
  }
 },
 "nbformat": 4,
 "nbformat_minor": 5
}
