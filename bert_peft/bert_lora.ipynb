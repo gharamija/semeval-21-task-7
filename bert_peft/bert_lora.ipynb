{
  "cells": [
    {
      "cell_type": "markdown",
      "source": [
        "# Fine-tuning with Low-Rank Adaptation (LoRA)"
      ],
      "metadata": {
        "collapsed": false,
        "id": "fb8e0ade4d0a3de3"
      },
      "id": "fb8e0ade4d0a3de3"
    },
    {
      "cell_type": "code",
      "source": [
        "from google.colab import drive\n",
        "drive.mount('/content/drive')"
      ],
      "metadata": {
        "colab": {
          "base_uri": "https://localhost:8080/"
        },
        "id": "CqSOYFBndw2o",
        "outputId": "f8d8f9e8-8152-4b33-b462-77a5356ed028"
      },
      "id": "CqSOYFBndw2o",
      "execution_count": 18,
      "outputs": [
        {
          "output_type": "stream",
          "name": "stdout",
          "text": [
            "Drive already mounted at /content/drive; to attempt to forcibly remount, call drive.mount(\"/content/drive\", force_remount=True).\n"
          ]
        }
      ]
    },
    {
      "cell_type": "code",
      "outputs": [],
      "source": [
        "!pip install wandb python-dotenv datasets peft"
      ],
      "metadata": {
        "id": "de3e067cdc5f79c9"
      },
      "id": "de3e067cdc5f79c9",
      "execution_count": null
    },
    {
      "cell_type": "code",
      "execution_count": 20,
      "id": "initial_id",
      "metadata": {
        "collapsed": true,
        "ExecuteTime": {
          "end_time": "2024-01-13T10:35:07.176590Z",
          "start_time": "2024-01-13T10:35:02.309093Z"
        },
        "id": "initial_id"
      },
      "outputs": [],
      "source": [
        "import wandb\n",
        "from dotenv import load_dotenv\n",
        "\n",
        "from peft import LoraConfig, TaskType, get_peft_model\n",
        "import transformers\n",
        "from transformers import BertForSequenceClassification, TrainingArguments, Trainer, AutoTokenizer\n",
        "from datasets import load_dataset\n",
        "import numpy as np\n",
        "from sklearn.metrics import f1_score\n",
        "\n",
        "transformers.logging.set_verbosity_error()"
      ]
    },
    {
      "cell_type": "code",
      "outputs": [
        {
          "output_type": "stream",
          "name": "stderr",
          "text": [
            "\u001b[34m\u001b[1mwandb\u001b[0m: \u001b[33mWARNING\u001b[0m Calling wandb.login() after wandb.init() has no effect.\n"
          ]
        },
        {
          "output_type": "execute_result",
          "data": {
            "text/plain": [
              "True"
            ]
          },
          "metadata": {},
          "execution_count": 21
        }
      ],
      "source": [
        "load_dotenv()\n",
        "wandb.login()"
      ],
      "metadata": {
        "colab": {
          "base_uri": "https://localhost:8080/"
        },
        "id": "d10b8c8916bb105f",
        "outputId": "a08c4022-92c6-4404-cd27-7314700be857"
      },
      "id": "d10b8c8916bb105f",
      "execution_count": 21
    },
    {
      "cell_type": "code",
      "source": [
        "import os\n",
        "os.environ[\"WANDB_PROJECT\"]=\"semeval-21-task-7\"\n",
        "os.environ[\"WANDB_LOG_MODEL\"]=\"checkpoint\""
      ],
      "metadata": {
        "id": "N9_auW2NgDux"
      },
      "id": "N9_auW2NgDux",
      "execution_count": 22,
      "outputs": []
    },
    {
      "cell_type": "markdown",
      "source": [
        "## Dataset loading"
      ],
      "metadata": {
        "collapsed": false,
        "id": "b0236be551b22753"
      },
      "id": "b0236be551b22753"
    },
    {
      "cell_type": "code",
      "execution_count": 23,
      "outputs": [],
      "source": [
        "dataset = (\n",
        "    load_dataset('csv', data_files={'train': 'drive/MyDrive/data/train.csv', 'dev': 'drive/MyDrive/data/dev.csv', 'test': 'drive/MyDrive/data/test.csv'})\n",
        "    .remove_columns(['id', 'humor_rating', 'humor_controversy', 'offense_rating', 'sentence_length'])\n",
        "    .rename_column('is_humor', 'label'))"
      ],
      "metadata": {
        "ExecuteTime": {
          "end_time": "2024-01-13T10:36:50.212403Z",
          "start_time": "2024-01-13T10:36:49.531412Z"
        },
        "id": "72d9549de00dcb17"
      },
      "id": "72d9549de00dcb17"
    },
    {
      "cell_type": "markdown",
      "source": [
        "## Model setup"
      ],
      "metadata": {
        "collapsed": false,
        "id": "c3e77c9add4b6820"
      },
      "id": "c3e77c9add4b6820"
    },
    {
      "cell_type": "code",
      "execution_count": 24,
      "outputs": [],
      "source": [
        "tokenizer = AutoTokenizer.from_pretrained('bert-base-uncased')\n",
        "\n",
        "\n",
        "def tokenize(examples):\n",
        "    return tokenizer(examples['text'], padding=\"max_length\", truncation=True, max_length=150)"
      ],
      "metadata": {
        "ExecuteTime": {
          "end_time": "2024-01-13T10:36:52.393063Z",
          "start_time": "2024-01-13T10:36:52.096216Z"
        },
        "id": "f30d8659d0e6ce14"
      },
      "id": "f30d8659d0e6ce14"
    },
    {
      "cell_type": "code",
      "execution_count": 25,
      "outputs": [
        {
          "output_type": "display_data",
          "data": {
            "text/plain": [
              "Map:   0%|          | 0/800 [00:00<?, ? examples/s]"
            ],
            "application/vnd.jupyter.widget-view+json": {
              "version_major": 2,
              "version_minor": 0,
              "model_id": "a68fd67dee334163a555beb30e7b5a37"
            }
          },
          "metadata": {}
        }
      ],
      "source": [
        "dataset = dataset.map(tokenize, batched=True).remove_columns(['text'])"
      ],
      "metadata": {
        "colab": {
          "base_uri": "https://localhost:8080/",
          "height": 49,
          "referenced_widgets": [
            "a68fd67dee334163a555beb30e7b5a37",
            "9b80415863404c9cad1cfce651ecf51f",
            "9d0ad7726070485ca0cc7f44a0ae6346",
            "caf8dbad79584f95b257ead5b251c1b0",
            "dc875553af4a4146abba485b4290bef4",
            "001c2e1c77b84dda878d6e7cabb44d45",
            "98071e4cc1924bada8661032fdf1cbb9",
            "1553d5c6529f42b2984ddc0924917acb",
            "58faeb6416b1465ebf72dbc2d956fcb1",
            "671db7df78524085a71b67ee98dc2b65",
            "5d50aac06d7c4f78be161f73ddea3764"
          ]
        },
        "id": "46c4139533a898ac",
        "outputId": "d697ff25-c5b0-4bb2-8042-ceb8b99d3db5"
      },
      "id": "46c4139533a898ac"
    },
    {
      "cell_type": "code",
      "execution_count": 26,
      "outputs": [],
      "source": [
        "model = BertForSequenceClassification.from_pretrained('bert-base-uncased', num_labels=2)"
      ],
      "metadata": {
        "ExecuteTime": {
          "end_time": "2024-01-13T10:37:02.676562Z",
          "start_time": "2024-01-13T10:37:00.986116Z"
        },
        "id": "ff5d45d58eb77fd2"
      },
      "id": "ff5d45d58eb77fd2"
    },
    {
      "cell_type": "markdown",
      "source": [
        "## LoRA Setup"
      ],
      "metadata": {
        "collapsed": false,
        "id": "2801a145df1cac9c"
      },
      "id": "2801a145df1cac9c"
    },
    {
      "cell_type": "code",
      "execution_count": 27,
      "outputs": [],
      "source": [
        "def compute_metrics(eval_pred):\n",
        "    logits, labels = eval_pred\n",
        "    predictions = np.argmax(logits, axis=-1)\n",
        "\n",
        "    f1 = f1_score(labels, predictions, average='weighted')\n",
        "\n",
        "    return {\n",
        "        'f1': f1\n",
        "    }\n"
      ],
      "metadata": {
        "ExecuteTime": {
          "end_time": "2024-01-04T15:39:06.163799Z",
          "start_time": "2024-01-04T15:39:06.160947Z"
        },
        "id": "405fe36c0c8e879e"
      },
      "id": "405fe36c0c8e879e"
    },
    {
      "cell_type": "markdown",
      "source": [
        "## Training setup"
      ],
      "metadata": {
        "collapsed": false,
        "id": "49123c6c654cac10"
      },
      "id": "49123c6c654cac10"
    },
    {
      "cell_type": "code",
      "execution_count": null,
      "outputs": [
        {
          "output_type": "stream",
          "name": "stdout",
          "text": [
            "------------------------------\n",
            "r: 2 || trainable params: 75266 || all params: 109559044 || trainable%: 0.06869902953881196 \n",
            "{'loss': 0.6546, 'learning_rate': 1e-05, 'epoch': 1.0}\n"
          ]
        },
        {
          "output_type": "stream",
          "name": "stderr",
          "text": [
            "\u001b[34m\u001b[1mwandb\u001b[0m: Adding directory to artifact (./bert-lora-humor-detection/checkpoint-200)... Done. 0.0s\n"
          ]
        },
        {
          "output_type": "stream",
          "name": "stdout",
          "text": [
            "{'eval_loss': 0.6381162405014038, 'eval_f1': 0.4861974868995849, 'eval_runtime': 7.0957, 'eval_samples_per_second': 112.744, 'eval_steps_per_second': 3.523, 'epoch': 1.0}\n"
          ]
        }
      ],
      "source": [
        "for i in range(1, 6):\n",
        "    lora_config = LoraConfig(\n",
        "        task_type=TaskType.SEQ_CLS,\n",
        "        r=2 ** i,\n",
        "        lora_alpha=4 ** i,\n",
        "        lora_dropout=0.1,\n",
        "        bias=\"none\"\n",
        "    )\n",
        "\n",
        "    peft_model = get_peft_model(model, lora_config)\n",
        "    trainable_params, all_param = peft_model.get_nb_trainable_parameters()\n",
        "\n",
        "    print(\"------------------------------\")\n",
        "    print(f\"r: {2 ** i} || trainable params: {trainable_params} || all params: {all_param} || trainable%: {100 * trainable_params / all_param} \")\n",
        "\n",
        "    trainer = Trainer(\n",
        "        model=peft_model,\n",
        "        args=TrainingArguments(\n",
        "            output_dir='bert-lora-humor-detection',\n",
        "            evaluation_strategy=\"steps\",\n",
        "            eval_steps=200,\n",
        "            logging_steps=200,\n",
        "            save_steps=200,\n",
        "            num_train_epochs=2,\n",
        "            per_device_train_batch_size=32,\n",
        "            per_device_eval_batch_size=32,\n",
        "            report_to=[\"wandb\"],\n",
        "            run_name=f\"bert-lora-humor-{i}\",\n",
        "            adam_epsilon=1e-08,\n",
        "            learning_rate=2e-5\n",
        "        ),\n",
        "        train_dataset=dataset['train'],\n",
        "        eval_dataset=dataset['dev'],\n",
        "        tokenizer=tokenizer,\n",
        "        compute_metrics=compute_metrics\n",
        "    )\n",
        "\n",
        "    trainer.train()\n",
        "    wandb.finish()"
      ],
      "metadata": {
        "ExecuteTime": {
          "end_time": "2024-01-04T15:39:45.224357Z",
          "start_time": "2024-01-04T15:39:45.207512Z"
        },
        "colab": {
          "base_uri": "https://localhost:8080/"
        },
        "id": "d106bc4e09c1a673",
        "outputId": "96d2e34c-3c70-4ad4-aa3c-82af3680dc56"
      },
      "id": "d106bc4e09c1a673"
    },
    {
      "cell_type": "code",
      "execution_count": null,
      "outputs": [
        {
          "data": {
            "text/plain": "{'test_loss': 0.3577665686607361,\n 'test_f1': 0.8537736197348548,\n 'test_runtime': 37.9098,\n 'test_samples_per_second': 21.103,\n 'test_steps_per_second': 2.638}"
          },
          "execution_count": 26,
          "metadata": {},
          "output_type": "execute_result"
        }
      ],
      "source": [
        "# trainer.predict(dataset['test']).metrics"
      ],
      "metadata": {
        "ExecuteTime": {
          "end_time": "2024-01-03T11:11:55.934269Z",
          "start_time": "2024-01-03T11:11:18.006993Z"
        },
        "id": "2179e3b93ffc48d1",
        "outputId": "c9009c9a-99a0-4c48-f132-811a4cb95470"
      },
      "id": "2179e3b93ffc48d1"
    },
    {
      "cell_type": "code",
      "execution_count": null,
      "outputs": [],
      "source": [],
      "metadata": {
        "id": "f2e962fda949c1bc"
      },
      "id": "f2e962fda949c1bc"
    }
  ],
  "metadata": {
    "kernelspec": {
      "display_name": "Python 3",
      "name": "python3"
    },
    "language_info": {
      "codemirror_mode": {
        "name": "ipython",
        "version": 2
      },
      "file_extension": ".py",
      "mimetype": "text/x-python",
      "name": "python",
      "nbconvert_exporter": "python",
      "pygments_lexer": "ipython2",
      "version": "2.7.6"
    },
    "colab": {
      "provenance": [],
      "gpuType": "T4"
    },
    "accelerator": "GPU",
    "widgets": {
      "application/vnd.jupyter.widget-state+json": {
        "a68fd67dee334163a555beb30e7b5a37": {
          "model_module": "@jupyter-widgets/controls",
          "model_name": "HBoxModel",
          "model_module_version": "1.5.0",
          "state": {
            "_dom_classes": [],
            "_model_module": "@jupyter-widgets/controls",
            "_model_module_version": "1.5.0",
            "_model_name": "HBoxModel",
            "_view_count": null,
            "_view_module": "@jupyter-widgets/controls",
            "_view_module_version": "1.5.0",
            "_view_name": "HBoxView",
            "box_style": "",
            "children": [
              "IPY_MODEL_9b80415863404c9cad1cfce651ecf51f",
              "IPY_MODEL_9d0ad7726070485ca0cc7f44a0ae6346",
              "IPY_MODEL_caf8dbad79584f95b257ead5b251c1b0"
            ],
            "layout": "IPY_MODEL_dc875553af4a4146abba485b4290bef4"
          }
        },
        "9b80415863404c9cad1cfce651ecf51f": {
          "model_module": "@jupyter-widgets/controls",
          "model_name": "HTMLModel",
          "model_module_version": "1.5.0",
          "state": {
            "_dom_classes": [],
            "_model_module": "@jupyter-widgets/controls",
            "_model_module_version": "1.5.0",
            "_model_name": "HTMLModel",
            "_view_count": null,
            "_view_module": "@jupyter-widgets/controls",
            "_view_module_version": "1.5.0",
            "_view_name": "HTMLView",
            "description": "",
            "description_tooltip": null,
            "layout": "IPY_MODEL_001c2e1c77b84dda878d6e7cabb44d45",
            "placeholder": "​",
            "style": "IPY_MODEL_98071e4cc1924bada8661032fdf1cbb9",
            "value": "Map: 100%"
          }
        },
        "9d0ad7726070485ca0cc7f44a0ae6346": {
          "model_module": "@jupyter-widgets/controls",
          "model_name": "FloatProgressModel",
          "model_module_version": "1.5.0",
          "state": {
            "_dom_classes": [],
            "_model_module": "@jupyter-widgets/controls",
            "_model_module_version": "1.5.0",
            "_model_name": "FloatProgressModel",
            "_view_count": null,
            "_view_module": "@jupyter-widgets/controls",
            "_view_module_version": "1.5.0",
            "_view_name": "ProgressView",
            "bar_style": "success",
            "description": "",
            "description_tooltip": null,
            "layout": "IPY_MODEL_1553d5c6529f42b2984ddc0924917acb",
            "max": 800,
            "min": 0,
            "orientation": "horizontal",
            "style": "IPY_MODEL_58faeb6416b1465ebf72dbc2d956fcb1",
            "value": 800
          }
        },
        "caf8dbad79584f95b257ead5b251c1b0": {
          "model_module": "@jupyter-widgets/controls",
          "model_name": "HTMLModel",
          "model_module_version": "1.5.0",
          "state": {
            "_dom_classes": [],
            "_model_module": "@jupyter-widgets/controls",
            "_model_module_version": "1.5.0",
            "_model_name": "HTMLModel",
            "_view_count": null,
            "_view_module": "@jupyter-widgets/controls",
            "_view_module_version": "1.5.0",
            "_view_name": "HTMLView",
            "description": "",
            "description_tooltip": null,
            "layout": "IPY_MODEL_671db7df78524085a71b67ee98dc2b65",
            "placeholder": "​",
            "style": "IPY_MODEL_5d50aac06d7c4f78be161f73ddea3764",
            "value": " 800/800 [00:00&lt;00:00, 3025.86 examples/s]"
          }
        },
        "dc875553af4a4146abba485b4290bef4": {
          "model_module": "@jupyter-widgets/base",
          "model_name": "LayoutModel",
          "model_module_version": "1.2.0",
          "state": {
            "_model_module": "@jupyter-widgets/base",
            "_model_module_version": "1.2.0",
            "_model_name": "LayoutModel",
            "_view_count": null,
            "_view_module": "@jupyter-widgets/base",
            "_view_module_version": "1.2.0",
            "_view_name": "LayoutView",
            "align_content": null,
            "align_items": null,
            "align_self": null,
            "border": null,
            "bottom": null,
            "display": null,
            "flex": null,
            "flex_flow": null,
            "grid_area": null,
            "grid_auto_columns": null,
            "grid_auto_flow": null,
            "grid_auto_rows": null,
            "grid_column": null,
            "grid_gap": null,
            "grid_row": null,
            "grid_template_areas": null,
            "grid_template_columns": null,
            "grid_template_rows": null,
            "height": null,
            "justify_content": null,
            "justify_items": null,
            "left": null,
            "margin": null,
            "max_height": null,
            "max_width": null,
            "min_height": null,
            "min_width": null,
            "object_fit": null,
            "object_position": null,
            "order": null,
            "overflow": null,
            "overflow_x": null,
            "overflow_y": null,
            "padding": null,
            "right": null,
            "top": null,
            "visibility": null,
            "width": null
          }
        },
        "001c2e1c77b84dda878d6e7cabb44d45": {
          "model_module": "@jupyter-widgets/base",
          "model_name": "LayoutModel",
          "model_module_version": "1.2.0",
          "state": {
            "_model_module": "@jupyter-widgets/base",
            "_model_module_version": "1.2.0",
            "_model_name": "LayoutModel",
            "_view_count": null,
            "_view_module": "@jupyter-widgets/base",
            "_view_module_version": "1.2.0",
            "_view_name": "LayoutView",
            "align_content": null,
            "align_items": null,
            "align_self": null,
            "border": null,
            "bottom": null,
            "display": null,
            "flex": null,
            "flex_flow": null,
            "grid_area": null,
            "grid_auto_columns": null,
            "grid_auto_flow": null,
            "grid_auto_rows": null,
            "grid_column": null,
            "grid_gap": null,
            "grid_row": null,
            "grid_template_areas": null,
            "grid_template_columns": null,
            "grid_template_rows": null,
            "height": null,
            "justify_content": null,
            "justify_items": null,
            "left": null,
            "margin": null,
            "max_height": null,
            "max_width": null,
            "min_height": null,
            "min_width": null,
            "object_fit": null,
            "object_position": null,
            "order": null,
            "overflow": null,
            "overflow_x": null,
            "overflow_y": null,
            "padding": null,
            "right": null,
            "top": null,
            "visibility": null,
            "width": null
          }
        },
        "98071e4cc1924bada8661032fdf1cbb9": {
          "model_module": "@jupyter-widgets/controls",
          "model_name": "DescriptionStyleModel",
          "model_module_version": "1.5.0",
          "state": {
            "_model_module": "@jupyter-widgets/controls",
            "_model_module_version": "1.5.0",
            "_model_name": "DescriptionStyleModel",
            "_view_count": null,
            "_view_module": "@jupyter-widgets/base",
            "_view_module_version": "1.2.0",
            "_view_name": "StyleView",
            "description_width": ""
          }
        },
        "1553d5c6529f42b2984ddc0924917acb": {
          "model_module": "@jupyter-widgets/base",
          "model_name": "LayoutModel",
          "model_module_version": "1.2.0",
          "state": {
            "_model_module": "@jupyter-widgets/base",
            "_model_module_version": "1.2.0",
            "_model_name": "LayoutModel",
            "_view_count": null,
            "_view_module": "@jupyter-widgets/base",
            "_view_module_version": "1.2.0",
            "_view_name": "LayoutView",
            "align_content": null,
            "align_items": null,
            "align_self": null,
            "border": null,
            "bottom": null,
            "display": null,
            "flex": null,
            "flex_flow": null,
            "grid_area": null,
            "grid_auto_columns": null,
            "grid_auto_flow": null,
            "grid_auto_rows": null,
            "grid_column": null,
            "grid_gap": null,
            "grid_row": null,
            "grid_template_areas": null,
            "grid_template_columns": null,
            "grid_template_rows": null,
            "height": null,
            "justify_content": null,
            "justify_items": null,
            "left": null,
            "margin": null,
            "max_height": null,
            "max_width": null,
            "min_height": null,
            "min_width": null,
            "object_fit": null,
            "object_position": null,
            "order": null,
            "overflow": null,
            "overflow_x": null,
            "overflow_y": null,
            "padding": null,
            "right": null,
            "top": null,
            "visibility": null,
            "width": null
          }
        },
        "58faeb6416b1465ebf72dbc2d956fcb1": {
          "model_module": "@jupyter-widgets/controls",
          "model_name": "ProgressStyleModel",
          "model_module_version": "1.5.0",
          "state": {
            "_model_module": "@jupyter-widgets/controls",
            "_model_module_version": "1.5.0",
            "_model_name": "ProgressStyleModel",
            "_view_count": null,
            "_view_module": "@jupyter-widgets/base",
            "_view_module_version": "1.2.0",
            "_view_name": "StyleView",
            "bar_color": null,
            "description_width": ""
          }
        },
        "671db7df78524085a71b67ee98dc2b65": {
          "model_module": "@jupyter-widgets/base",
          "model_name": "LayoutModel",
          "model_module_version": "1.2.0",
          "state": {
            "_model_module": "@jupyter-widgets/base",
            "_model_module_version": "1.2.0",
            "_model_name": "LayoutModel",
            "_view_count": null,
            "_view_module": "@jupyter-widgets/base",
            "_view_module_version": "1.2.0",
            "_view_name": "LayoutView",
            "align_content": null,
            "align_items": null,
            "align_self": null,
            "border": null,
            "bottom": null,
            "display": null,
            "flex": null,
            "flex_flow": null,
            "grid_area": null,
            "grid_auto_columns": null,
            "grid_auto_flow": null,
            "grid_auto_rows": null,
            "grid_column": null,
            "grid_gap": null,
            "grid_row": null,
            "grid_template_areas": null,
            "grid_template_columns": null,
            "grid_template_rows": null,
            "height": null,
            "justify_content": null,
            "justify_items": null,
            "left": null,
            "margin": null,
            "max_height": null,
            "max_width": null,
            "min_height": null,
            "min_width": null,
            "object_fit": null,
            "object_position": null,
            "order": null,
            "overflow": null,
            "overflow_x": null,
            "overflow_y": null,
            "padding": null,
            "right": null,
            "top": null,
            "visibility": null,
            "width": null
          }
        },
        "5d50aac06d7c4f78be161f73ddea3764": {
          "model_module": "@jupyter-widgets/controls",
          "model_name": "DescriptionStyleModel",
          "model_module_version": "1.5.0",
          "state": {
            "_model_module": "@jupyter-widgets/controls",
            "_model_module_version": "1.5.0",
            "_model_name": "DescriptionStyleModel",
            "_view_count": null,
            "_view_module": "@jupyter-widgets/base",
            "_view_module_version": "1.2.0",
            "_view_name": "StyleView",
            "description_width": ""
          }
        }
      }
    }
  },
  "nbformat": 4,
  "nbformat_minor": 5
}