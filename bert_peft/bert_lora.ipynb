{
 "cells": [
  {
   "cell_type": "markdown",
   "source": [
    "# Fine-tuning with Low-Rank Adaptation (LoRA)"
   ],
   "metadata": {
    "collapsed": false
   },
   "id": "fb8e0ade4d0a3de3"
  },
  {
   "cell_type": "code",
   "outputs": [],
   "source": [
    "!pip install wandb python-dotenv datasets peft"
   ],
   "metadata": {
    "collapsed": false
   },
   "id": "de3e067cdc5f79c9",
   "execution_count": null
  },
  {
   "cell_type": "code",
   "execution_count": 1,
   "id": "initial_id",
   "metadata": {
    "collapsed": true,
    "ExecuteTime": {
     "end_time": "2024-01-13T10:35:07.176590Z",
     "start_time": "2024-01-13T10:35:02.309093Z"
    }
   },
   "outputs": [],
   "source": [
    "import wandb\n",
    "from dotenv import load_dotenv\n",
    "\n",
    "from peft import LoraConfig, TaskType, get_peft_model\n",
    "import transformers\n",
    "from transformers import BertForSequenceClassification, TrainingArguments, Trainer, AutoTokenizer\n",
    "from datasets import load_dataset\n",
    "import numpy as np\n",
    "from sklearn.metrics import f1_score\n",
    "\n",
    "transformers.logging.set_verbosity_error()"
   ]
  },
  {
   "cell_type": "code",
   "outputs": [],
   "source": [
    "load_dotenv()\n",
    "wandb.login()\n",
    "wandb.init(project='semeval-21-task-7')"
   ],
   "metadata": {
    "collapsed": false
   },
   "id": "d10b8c8916bb105f",
   "execution_count": null
  },
  {
   "cell_type": "markdown",
   "source": [
    "## Dataset loading"
   ],
   "metadata": {
    "collapsed": false
   },
   "id": "b0236be551b22753"
  },
  {
   "cell_type": "code",
   "execution_count": 4,
   "outputs": [],
   "source": [
    "dataset = (\n",
    "    load_dataset('csv', data_files={'train': '../data/train.csv', 'dev': '../data/dev.csv', 'test': '../data/test.csv'})\n",
    "    .remove_columns(['id', 'humor_rating', 'humor_controversy', 'offense_rating', 'sentence_length'])\n",
    "    .rename_column('is_humor', 'label'))"
   ],
   "metadata": {
    "collapsed": false,
    "ExecuteTime": {
     "end_time": "2024-01-13T10:36:50.212403Z",
     "start_time": "2024-01-13T10:36:49.531412Z"
    }
   },
   "id": "72d9549de00dcb17"
  },
  {
   "cell_type": "markdown",
   "source": [
    "## Model setup"
   ],
   "metadata": {
    "collapsed": false
   },
   "id": "c3e77c9add4b6820"
  },
  {
   "cell_type": "code",
   "execution_count": 5,
   "outputs": [],
   "source": [
    "tokenizer = AutoTokenizer.from_pretrained('bert-base-uncased')\n",
    "\n",
    "\n",
    "def tokenize(examples):\n",
    "    return tokenizer(examples['text'], padding=\"max_length\", truncation=True, max_length=150)"
   ],
   "metadata": {
    "collapsed": false,
    "ExecuteTime": {
     "end_time": "2024-01-13T10:36:52.393063Z",
     "start_time": "2024-01-13T10:36:52.096216Z"
    }
   },
   "id": "f30d8659d0e6ce14"
  },
  {
   "cell_type": "code",
   "execution_count": null,
   "outputs": [],
   "source": [
    "dataset = dataset.map(tokenize, batched=True).remove_columns(['text'])"
   ],
   "metadata": {
    "collapsed": false
   },
   "id": "46c4139533a898ac"
  },
  {
   "cell_type": "code",
   "execution_count": 7,
   "outputs": [],
   "source": [
    "model = BertForSequenceClassification.from_pretrained('bert-base-uncased', num_labels=2)"
   ],
   "metadata": {
    "collapsed": false,
    "ExecuteTime": {
     "end_time": "2024-01-13T10:37:02.676562Z",
     "start_time": "2024-01-13T10:37:00.986116Z"
    }
   },
   "id": "ff5d45d58eb77fd2"
  },
  {
   "cell_type": "markdown",
   "source": [
    "## LoRA Setup "
   ],
   "metadata": {
    "collapsed": false
   },
   "id": "2801a145df1cac9c"
  },
  {
   "cell_type": "code",
   "execution_count": 58,
   "outputs": [],
   "source": [
    "def compute_metrics(eval_pred):\n",
    "    logits, labels = eval_pred\n",
    "    predictions = np.argmax(logits, axis=-1)\n",
    "\n",
    "    f1 = f1_score(labels, predictions, average='weighted')\n",
    "\n",
    "    return {\n",
    "        'f1': f1\n",
    "    }\n"
   ],
   "metadata": {
    "collapsed": false,
    "ExecuteTime": {
     "end_time": "2024-01-04T15:39:06.163799Z",
     "start_time": "2024-01-04T15:39:06.160947Z"
    }
   },
   "id": "405fe36c0c8e879e"
  },
  {
   "cell_type": "markdown",
   "source": [
    "## Training setup"
   ],
   "metadata": {
    "collapsed": false
   },
   "id": "49123c6c654cac10"
  },
  {
   "cell_type": "code",
   "execution_count": 66,
   "outputs": [],
   "source": [
    "for i in range(1, 6):\n",
    "    lora_config = LoraConfig(\n",
    "        task_type=TaskType.SEQ_CLS,\n",
    "        r=2 ** i,\n",
    "        lora_alpha=4 ** i,\n",
    "        lora_dropout=0.1,\n",
    "        bias=\"none\"\n",
    "    )\n",
    "\n",
    "    peft_model = get_peft_model(model, lora_config)\n",
    "    trainable_params, all_param = peft_model.get_nb_trainable_parameters()\n",
    "    \n",
    "    print(\"------------------------------\")\n",
    "    print(f\"r: {2 ** i} || trainable params: {trainable_params} || all params: {all_param} || trainable%: {100 * trainable_params / all_param} \")\n",
    "    \n",
    "    trainer = Trainer(\n",
    "        model=peft_model,\n",
    "        args=TrainingArguments(\n",
    "            output_dir='bert-lora-humor-detection',\n",
    "            evaluation_strategy=\"steps\",\n",
    "            eval_steps=2,\n",
    "            num_train_epochs=2,\n",
    "            per_device_train_batch_size=32,\n",
    "            per_device_eval_batch_size=32,\n",
    "            report_to=\"wandb\",\n",
    "            run_name=f\"bert-lora-humor-{i}\",\n",
    "            adam_epsilon=1e-08,\n",
    "            learning_rate=2e-5\n",
    "        ),\n",
    "        train_dataset=dataset['train'],\n",
    "        eval_dataset=dataset['dev'],\n",
    "        tokenizer=tokenizer,\n",
    "        compute_metrics=compute_metrics\n",
    "    )\n",
    "\n",
    "    trainer.train()"
   ],
   "metadata": {
    "collapsed": false,
    "ExecuteTime": {
     "end_time": "2024-01-04T15:39:45.224357Z",
     "start_time": "2024-01-04T15:39:45.207512Z"
    }
   },
   "id": "d106bc4e09c1a673"
  },
  {
   "cell_type": "code",
   "execution_count": 26,
   "outputs": [
    {
     "data": {
      "text/plain": "{'test_loss': 0.3577665686607361,\n 'test_f1': 0.8537736197348548,\n 'test_runtime': 37.9098,\n 'test_samples_per_second': 21.103,\n 'test_steps_per_second': 2.638}"
     },
     "execution_count": 26,
     "metadata": {},
     "output_type": "execute_result"
    }
   ],
   "source": [
    "# trainer.predict(dataset['test']).metrics"
   ],
   "metadata": {
    "collapsed": false,
    "ExecuteTime": {
     "end_time": "2024-01-03T11:11:55.934269Z",
     "start_time": "2024-01-03T11:11:18.006993Z"
    }
   },
   "id": "2179e3b93ffc48d1"
  },
  {
   "cell_type": "code",
   "execution_count": null,
   "outputs": [],
   "source": [],
   "metadata": {
    "collapsed": false
   },
   "id": "f2e962fda949c1bc"
  }
 ],
 "metadata": {
  "kernelspec": {
   "display_name": "Python 3",
   "language": "python",
   "name": "python3"
  },
  "language_info": {
   "codemirror_mode": {
    "name": "ipython",
    "version": 2
   },
   "file_extension": ".py",
   "mimetype": "text/x-python",
   "name": "python",
   "nbconvert_exporter": "python",
   "pygments_lexer": "ipython2",
   "version": "2.7.6"
  }
 },
 "nbformat": 4,
 "nbformat_minor": 5
}
