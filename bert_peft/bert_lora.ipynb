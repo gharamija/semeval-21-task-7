{
 "cells": [
  {
   "cell_type": "markdown",
   "source": [
    "# Fine-tuning with Low-Rank Adaptation (LoRA)"
   ],
   "metadata": {
    "collapsed": false
   },
   "id": "fb8e0ade4d0a3de3"
  },
  {
   "cell_type": "code",
   "outputs": [],
   "source": [
    "!pip install wandb python-dotenv datasets peft"
   ],
   "metadata": {
    "collapsed": false
   },
   "id": "de3e067cdc5f79c9",
   "execution_count": null
  },
  {
   "cell_type": "code",
   "execution_count": 7,
   "id": "initial_id",
   "metadata": {
    "collapsed": true,
    "ExecuteTime": {
     "end_time": "2024-01-04T12:42:05.200694Z",
     "start_time": "2024-01-04T12:42:05.196737Z"
    }
   },
   "outputs": [],
   "source": [
    "import wandb\n",
    "from dotenv import load_dotenv\n",
    "\n",
    "from peft import LoraConfig, TaskType, get_peft_model\n",
    "import transformers\n",
    "from transformers import BertForSequenceClassification, TrainingArguments, Trainer, AutoTokenizer\n",
    "from datasets import load_dataset\n",
    "import numpy as np\n",
    "from sklearn.metrics import accuracy_score, precision_score, recall_score, f1_score\n",
    "\n",
    "transformers.logging.set_verbosity_error()"
   ]
  },
  {
   "cell_type": "code",
   "outputs": [
    {
     "data": {
      "text/plain": "True"
     },
     "execution_count": 8,
     "metadata": {},
     "output_type": "execute_result"
    }
   ],
   "source": [
    "load_dotenv()\n",
    "wandb.login()"
   ],
   "metadata": {
    "collapsed": false,
    "ExecuteTime": {
     "end_time": "2024-01-04T12:42:06.112839Z",
     "start_time": "2024-01-04T12:42:06.103790Z"
    }
   },
   "id": "d10b8c8916bb105f",
   "execution_count": 8
  },
  {
   "cell_type": "markdown",
   "source": [
    "## Dataset loading"
   ],
   "metadata": {
    "collapsed": false
   },
   "id": "b0236be551b22753"
  },
  {
   "cell_type": "code",
   "execution_count": 9,
   "outputs": [],
   "source": [
    "train_data = (load_dataset('csv', data_files='../data/train.csv', split='train')\n",
    "              .class_encode_column('is_humor')\n",
    "              .rename_column('is_humor', 'labels'))\n",
    "\n",
    "dev_data = (load_dataset('csv', data_files='../data/dev.csv', split='train')\n",
    "            .class_encode_column('is_humor')\n",
    "            .rename_column('is_humor', 'labels'))\n",
    "\n",
    "test_data = (load_dataset('csv', data_files='../data/test.csv', split='train')\n",
    "             .class_encode_column('is_humor')\n",
    "             .rename_column('is_humor', 'labels'))"
   ],
   "metadata": {
    "collapsed": false,
    "ExecuteTime": {
     "end_time": "2024-01-04T12:42:09.320370Z",
     "start_time": "2024-01-04T12:42:07.430160Z"
    }
   },
   "id": "72d9549de00dcb17"
  },
  {
   "cell_type": "markdown",
   "source": [
    "## Model setup"
   ],
   "metadata": {
    "collapsed": false
   },
   "id": "c3e77c9add4b6820"
  },
  {
   "cell_type": "code",
   "execution_count": 10,
   "outputs": [],
   "source": [
    "tokenizer = AutoTokenizer.from_pretrained('bert-base-uncased')\n",
    "\n",
    "def tokenize(examples):\n",
    "    return tokenizer(examples['text'], padding=\"max_length\", truncation=True)"
   ],
   "metadata": {
    "collapsed": false,
    "ExecuteTime": {
     "end_time": "2024-01-04T12:42:11.990663Z",
     "start_time": "2024-01-04T12:42:11.499587Z"
    }
   },
   "id": "f30d8659d0e6ce14"
  },
  {
   "cell_type": "code",
   "execution_count": 11,
   "outputs": [
    {
     "data": {
      "text/plain": "Map:   0%|          | 0/800 [00:00<?, ? examples/s]",
      "application/vnd.jupyter.widget-view+json": {
       "version_major": 2,
       "version_minor": 0,
       "model_id": "580e2bdfb51b49dfb894f40eb098f1ac"
      }
     },
     "metadata": {},
     "output_type": "display_data"
    }
   ],
   "source": [
    "train_data = train_data.map(tokenize, batched=True)\n",
    "dev_data = dev_data.map(tokenize, batched=True)\n",
    "test_data = test_data.map(tokenize, batched=True)"
   ],
   "metadata": {
    "collapsed": false,
    "ExecuteTime": {
     "end_time": "2024-01-04T12:42:12.697671Z",
     "start_time": "2024-01-04T12:42:12.548026Z"
    }
   },
   "id": "46c4139533a898ac"
  },
  {
   "cell_type": "code",
   "execution_count": 12,
   "outputs": [],
   "source": [
    "model = BertForSequenceClassification.from_pretrained('bert-base-uncased', num_labels=2)"
   ],
   "metadata": {
    "collapsed": false,
    "ExecuteTime": {
     "end_time": "2024-01-04T12:43:26.786814Z",
     "start_time": "2024-01-04T12:43:25.402012Z"
    }
   },
   "id": "ff5d45d58eb77fd2"
  },
  {
   "cell_type": "markdown",
   "source": [
    "## LoRA Setup "
   ],
   "metadata": {
    "collapsed": false
   },
   "id": "2801a145df1cac9c"
  },
  {
   "cell_type": "code",
   "execution_count": 13,
   "outputs": [],
   "source": [
    "lora_config = LoraConfig(\n",
    "    task_type=TaskType.SEQ_CLS,\n",
    "    r=1,\n",
    "    lora_alpha=1,\n",
    "    lora_dropout=0.1,\n",
    "    bias=\"none\"\n",
    ")"
   ],
   "metadata": {
    "collapsed": false,
    "ExecuteTime": {
     "end_time": "2024-01-04T12:43:27.369034Z",
     "start_time": "2024-01-04T12:43:27.363132Z"
    }
   },
   "id": "d0b2a13ef765f180"
  },
  {
   "cell_type": "code",
   "execution_count": 14,
   "outputs": [
    {
     "name": "stdout",
     "output_type": "stream",
     "text": [
      "trainable params: 38,402 || all params: 109,522,180 || trainable%: 0.035063217331868304\n"
     ]
    }
   ],
   "source": [
    "peft_model = get_peft_model(model, lora_config)\n",
    "peft_model.print_trainable_parameters()"
   ],
   "metadata": {
    "collapsed": false,
    "ExecuteTime": {
     "end_time": "2024-01-04T12:43:27.878064Z",
     "start_time": "2024-01-04T12:43:27.850148Z"
    }
   },
   "id": "3d5f08fdd32ba5cb"
  },
  {
   "cell_type": "code",
   "execution_count": 15,
   "outputs": [],
   "source": [
    "def compute_metrics(eval_pred):\n",
    "    logits, labels = eval_pred\n",
    "    predictions = np.argmax(logits, axis=-1)\n",
    "    \n",
    "    # accuracy = accuracy_score(labels, predictions)\n",
    "    # precision = precision_score(labels, predictions, average='weighted')\n",
    "    # recall = recall_score(labels, predictions, average='weighted')\n",
    "    f1 = f1_score(labels, predictions, average='weighted')\n",
    "    \n",
    "    return {\n",
    "        # 'accuracy': accuracy,\n",
    "        # 'precision': precision,\n",
    "        # 'recall': recall,\n",
    "        'f1': f1\n",
    "    }\n",
    "    "
   ],
   "metadata": {
    "collapsed": false,
    "ExecuteTime": {
     "end_time": "2024-01-04T12:43:28.906375Z",
     "start_time": "2024-01-04T12:43:28.900330Z"
    }
   },
   "id": "405fe36c0c8e879e"
  },
  {
   "cell_type": "markdown",
   "source": [
    "## Training setup"
   ],
   "metadata": {
    "collapsed": false
   },
   "id": "49123c6c654cac10"
  },
  {
   "cell_type": "code",
   "execution_count": 16,
   "outputs": [],
   "source": [
    "training_arguments = TrainingArguments(\n",
    "    output_dir='bert-lora-humor-detection',\n",
    "    evaluation_strategy=\"epoch\",\n",
    "    num_train_epochs=2,\n",
    "    per_device_train_batch_size=32,\n",
    "    per_device_eval_batch_size=32,\n",
    "    report_to=\"wandb\",\n",
    "    run_name=\"bert-lora-humor-01\"\n",
    ")"
   ],
   "metadata": {
    "collapsed": false,
    "ExecuteTime": {
     "end_time": "2024-01-04T12:43:30.770362Z",
     "start_time": "2024-01-04T12:43:30.743389Z"
    }
   },
   "id": "14fd61069fb74f"
  },
  {
   "cell_type": "code",
   "execution_count": 17,
   "outputs": [],
   "source": [
    "trainer = Trainer(\n",
    "    model=peft_model,\n",
    "    args=training_arguments,\n",
    "    train_dataset=train_data,\n",
    "    eval_dataset=dev_data,\n",
    "    tokenizer=tokenizer,\n",
    "    compute_metrics=compute_metrics\n",
    ")"
   ],
   "metadata": {
    "collapsed": false,
    "ExecuteTime": {
     "end_time": "2024-01-04T12:43:31.830371Z",
     "start_time": "2024-01-04T12:43:31.392928Z"
    }
   },
   "id": "d106bc4e09c1a673"
  },
  {
   "cell_type": "code",
   "execution_count": null,
   "outputs": [],
   "source": [
    "%%time\n",
    "trainer.train()"
   ],
   "metadata": {
    "collapsed": false
   },
   "id": "4daaba7279b4f91f"
  },
  {
   "cell_type": "code",
   "execution_count": 26,
   "outputs": [
    {
     "data": {
      "text/plain": "{'test_loss': 0.3577665686607361,\n 'test_f1': 0.8537736197348548,\n 'test_runtime': 37.9098,\n 'test_samples_per_second': 21.103,\n 'test_steps_per_second': 2.638}"
     },
     "execution_count": 26,
     "metadata": {},
     "output_type": "execute_result"
    }
   ],
   "source": [
    "trainer.predict(test_data).metrics"
   ],
   "metadata": {
    "collapsed": false,
    "ExecuteTime": {
     "end_time": "2024-01-03T11:11:55.934269Z",
     "start_time": "2024-01-03T11:11:18.006993Z"
    }
   },
   "id": "2179e3b93ffc48d1"
  },
  {
   "cell_type": "code",
   "execution_count": null,
   "outputs": [],
   "source": [],
   "metadata": {
    "collapsed": false
   },
   "id": "f2e962fda949c1bc"
  }
 ],
 "metadata": {
  "kernelspec": {
   "display_name": "Python 3",
   "language": "python",
   "name": "python3"
  },
  "language_info": {
   "codemirror_mode": {
    "name": "ipython",
    "version": 2
   },
   "file_extension": ".py",
   "mimetype": "text/x-python",
   "name": "python",
   "nbconvert_exporter": "python",
   "pygments_lexer": "ipython2",
   "version": "2.7.6"
  }
 },
 "nbformat": 4,
 "nbformat_minor": 5
}
